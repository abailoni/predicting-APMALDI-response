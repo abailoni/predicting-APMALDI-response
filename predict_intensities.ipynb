{
 "cells": [
  {
   "cell_type": "markdown",
   "source": [
    "# Predict matrix intensities for custom molecules\n",
    "Use this notebook to predict matrix intensities on your custom set of molecules.\n",
    "\n",
    "#### Initial imports"
   ],
   "metadata": {
    "collapsed": false
   }
  },
  {
   "cell_type": "code",
   "execution_count": null,
   "outputs": [],
   "source": [
    "import pickle\n",
    "from pathlib import Path\n",
    "% load_ext autoreload\n",
    "% autoreload 2\n",
    "\n",
    "from pred_spot_intensity.io import load_molecule_features\n",
    "import pandas as pd\n",
    "import numpy as np"
   ],
   "metadata": {
    "collapsed": false
   }
  },
  {
   "cell_type": "markdown",
   "source": [
    "## Load molecule properties\n",
    "First, you should provide the list of molecules (as csv file) for which you want to predict the matrix intensities.\n",
    "\n",
    "In total the csv file should have 8 columns, with the following names:\n",
    "- `molecule_name`\n",
    "- `pka_strongest_acidic`\n",
    "- `pka_strongest_basic`\n",
    "- `polar_surface_area`\n",
    "- `polarizability`\n",
    "- `acceptor_count`\n",
    "- `donor_count`\n",
    "- `physiological_charge`\n",
    "\n",
    "You can have a look at the molecule features used for training the model at `./training_data/physchem_molecule_properties.csv`, to check how the final csv file should look like.\n",
    "\n",
    "Finally, insert the path of the csv file in the cell below."
   ],
   "metadata": {
    "collapsed": false
   }
  },
  {
   "cell_type": "code",
   "execution_count": null,
   "outputs": [],
   "source": [
    "# Update this with the path of the csv file with molecule features:\n",
    "PATH_CSV_FILE_MOLECULE_FEATURES = \"./training_data/physchem_molecule_properties.csv\"\n"
   ],
   "metadata": {
    "collapsed": false
   }
  },
  {
   "cell_type": "code",
   "execution_count": null,
   "outputs": [],
   "source": [
    "# Load the molecule features:\n",
    "molecule_features = load_molecule_features(PATH_CSV_FILE_MOLECULE_FEATURES,\n",
    "                                           normalize=True)"
   ],
   "metadata": {
    "collapsed": false
   }
  },
  {
   "cell_type": "markdown",
   "source": [
    "## Predict the matrix intensities\n",
    "In the cell below you can specify a custom path where to save the predictions. By default, predictions will be saved in `./prediction_results/predictions_my_custom_molecule_dataset.csv`."
   ],
   "metadata": {
    "collapsed": false
   }
  },
  {
   "cell_type": "code",
   "execution_count": null,
   "outputs": [],
   "source": [
    "# The output predictions will be saved in `<PREDICTIONS_DIR>/predictions_<EXP_NAME>.csv`\n",
    "PREDICTIONS_DIR = Path(\"./prediction_results\")\n",
    "EXPERIMENT_NAME = \"my_custom_molecule_dataset\""
   ],
   "metadata": {
    "collapsed": false
   }
  },
  {
   "cell_type": "code",
   "execution_count": null,
   "outputs": [],
   "source": [
    "matrix_names = ['9AA', 'CHCA', 'ClCCA', 'DAN', 'DHAP', 'DHB', 'MAPS', 'NEDC', 'NOR', 'CMBT', 'pNA']\n",
    "polarities = [\"positive\", \"negative\"]\n",
    "\n",
    "regression_models_dir = Path(\"./training_results/paper_results/regression_on_detected_per_mol_sum/trained_models\")\n",
    "classification_models_dir = Path(\"./training_results/paper_results/detection_per_mol_sum/trained_models\")\n",
    "PREDICTIONS_DIR.mkdir(exist_ok=True, parents=True)"
   ],
   "metadata": {
    "collapsed": false
   }
  },
  {
   "cell_type": "code",
   "execution_count": null,
   "outputs": [],
   "source": [
    "# Create inputs of the model:\n",
    "adduct_names = ['+Cl', '+H', '+K', '+Na', '-H', '[M]+', '[M]-']\n",
    "\n",
    "# Compute predictions for every matrix/polarity:\n",
    "predictions_collected = []\n",
    "for matrix in matrix_names:\n",
    "    for polarity in polarities:\n",
    "        # Load models from disk:\n",
    "        regression_model_path = regression_models_dir / f\"trained_regressor_model_{matrix}_{polarity}.pkl\"\n",
    "        regression_model = pickle.load(open(regression_model_path, 'rb'))\n",
    "        classification_model_path = classification_models_dir / f\"trained_classifier_model_{matrix}_{polarity}.pkl\"\n",
    "        classification_model = pickle.load(open(classification_model_path, 'rb'))\n",
    "\n",
    "        # for adduct in adduct_names:\n",
    "        #     model_input.loc[:, adduct_names] = 0\n",
    "        #     model_input.loc[: adduct] = 1\n",
    "        loc_results = pd.DataFrame({\"Molecule name\": molecule_features.index.tolist(),\n",
    "                                    \"matrix\": matrix,\n",
    "                                    \"polarity\": polarity,\n",
    "                                    \"Predicted intensity (log10[intensity+1])\": regression_model.predict(molecule_features.to_numpy()),\n",
    "                                    \"Predicted as detected\": classification_model.predict(molecule_features.to_numpy()) > 0.5\n",
    "                                    })\n",
    "        predictions_collected.append(loc_results)\n",
    "predictions_collected = pd.concat(predictions_collected).reset_index(drop=True)\n",
    "predictions_collected.loc[~predictions_collected[\"Predicted as detected\"], \"Predicted intensity (log10[intensity+1])\"] = ''\n",
    "predictions_collected.to_csv(PREDICTIONS_DIR / f\"predictions_{EXPERIMENT_NAME}.csv\")"
   ],
   "metadata": {
    "collapsed": false
   }
  },
  {
   "cell_type": "code",
   "execution_count": null,
   "outputs": [],
   "source": [],
   "metadata": {
    "collapsed": false
   }
  }
 ],
 "metadata": {
  "kernelspec": {
   "display_name": "Python 3",
   "language": "python",
   "name": "python3"
  },
  "language_info": {
   "codemirror_mode": {
    "name": "ipython",
    "version": 2
   },
   "file_extension": ".py",
   "mimetype": "text/x-python",
   "name": "python",
   "nbconvert_exporter": "python",
   "pygments_lexer": "ipython2",
   "version": "2.7.6"
  }
 },
 "nbformat": 4,
 "nbformat_minor": 0
}
