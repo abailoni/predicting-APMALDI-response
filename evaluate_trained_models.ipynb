{
 "cells": [
  {
   "cell_type": "markdown",
   "metadata": {},
   "source": [
    "# Evaluate trained models"
   ]
  },
  {
   "cell_type": "code",
   "execution_count": 2,
   "outputs": [],
   "source": [
    "from pathlib import Path\n",
    "\n",
    "import numpy as np\n",
    "import pandas as pd\n",
    "from matplotlib import pyplot as plt\n",
    "\n",
    "import matplotlib\n",
    "\n",
    "import pred_spot_intensity.evaluation_utils as evaluation_utils\n",
    "\n",
    "# plt.style.use('dark_background')\n",
    "plt.style.use('default')"
   ],
   "metadata": {
    "collapsed": false
   }
  },
  {
   "cell_type": "markdown",
   "source": [
    "### 1. Specify task to evaluate (to be updated update)\n",
    "Specify which task to evaluate: `detection_per_mol_sum` or `regression_on_detected_per_mol_sum`"
   ],
   "metadata": {
    "collapsed": false
   }
  },
  {
   "cell_type": "code",
   "execution_count": 25,
   "outputs": [],
   "source": [
    "# TASK_NAME = \"detection_per_mol_sum\"\n",
    "TASK_NAME = \"regression_on_detected_per_mol_sum\"\n",
    "\n",
    "# Name of the experiment where to find the training predictions (by default in `training_results/paper_results`):\n",
    "EXP_NAME = \"paper_results\""
   ],
   "metadata": {
    "collapsed": false
   }
  },
  {
   "cell_type": "markdown",
   "metadata": {},
   "source": [
    "### 2. Import training predictions and compute scores"
   ]
  },
  {
   "cell_type": "code",
   "execution_count": 26,
   "outputs": [],
   "source": [
    "plots_dir = Path.cwd() / \"./plots\" / EXP_NAME / TASK_NAME\n",
    "plots_dir.mkdir(exist_ok=True, parents=True)\n",
    "results_dir = Path.cwd() / \"./training_results\" / EXP_NAME / TASK_NAME\n",
    "raw_intensities_csv = Path.cwd() / \"./training_data/intensity_data_raw.csv\"\n"
   ],
   "metadata": {
    "collapsed": false
   }
  },
  {
   "cell_type": "code",
   "execution_count": 30,
   "outputs": [],
   "source": [
    "OUR_MODEL_NAME = \"NeuralNet\"\n",
    "\n",
    "selected_model = \"MLP\"\n",
    "plots_dir.mkdir(exist_ok=True, parents=True)\n",
    "\n",
    "filenames = {\n",
    "    OUR_MODEL_NAME: \"results_mol_feat.csv\",\n",
    "    \"Baseline\": \"results_random_feat.csv\",\n",
    "}\n",
    "\n",
    "formatted_metric_names = {\n",
    "    \"macro_avg_f1_score\": \"Macro-Avg-F1 Score\",\n",
    "    \"Spearman's R\": \"Spearman's R\"\n",
    "}"
   ],
   "metadata": {
    "collapsed": false
   }
  },
  {
   "cell_type": "code",
   "execution_count": 31,
   "outputs": [],
   "source": [
    "if \"detection\" in TASK_NAME:\n",
    "    metric = \"macro_avg_f1_score\"\n",
    "    count_key = 'detected'\n",
    "    task_typename = \"classification\"\n",
    "elif \"regression\" in TASK_NAME or \"rank\" in TASK_NAME:\n",
    "    metric = \"Spearman's R\"\n",
    "    count_key = 'non-zero obs'\n",
    "    task_typename = \"regression\"\n",
    "else:\n",
    "    raise ValueError(TASK_NAME)\n",
    "\n"
   ],
   "metadata": {
    "collapsed": false
   }
  },
  {
   "cell_type": "code",
   "execution_count": 28,
   "outputs": [],
   "source": [
    "molecules_with_zero_charge = evaluation_utils.get_molecules_with_zero_formal_charge(raw_intensities_csv)"
   ],
   "metadata": {
    "collapsed": false
   }
  },
  {
   "cell_type": "code",
   "execution_count": 32,
   "outputs": [],
   "source": [
    "GLOBAL_STRING = r\"\\textbf{Global}\"\n",
    "# Compute the actual scores:\n",
    "model_metrics, models_predictions, model_typename = evaluation_utils.compute_scores(filenames, TASK_NAME, task_typename,\n",
    "                                                                                    eval_feat_selection=False,\n",
    "                                                                                    has_multiple_iterations=True,\n",
    "                                                                                    name_global_column=GLOBAL_STRING,\n",
    "                                                                                    molecules_with_zero_charge=molecules_with_zero_charge,\n",
    "                                                                                    results_dir=results_dir)\n"
   ],
   "metadata": {
    "collapsed": false
   }
  },
  {
   "cell_type": "code",
   "execution_count": 34,
   "outputs": [],
   "source": [
    "index_columns = [\"matrix\", \"polarity\", \"train_setup\", \"model_type\", \"adduct_setup\"]\n",
    "\n",
    "# Take avg and std over multiple iterations:\n",
    "std_metrics = model_metrics.groupby(index_columns, as_index=True).std().drop(columns=\"iter_index\")\n",
    "mean_metrics = model_metrics.groupby(index_columns, as_index=True).mean().drop(columns=\"iter_index\")\n",
    "mean_metrics = mean_metrics.join(std_metrics, lsuffix='_mean', rsuffix='_std').reset_index()"
   ],
   "metadata": {
    "collapsed": false
   }
  },
  {
   "cell_type": "markdown",
   "source": [
    "### 3. Plot the achieved scores\n",
    "By default, plots will be saved in the directory `./plots/<EXP_NAME>/<TASK_NAME>`"
   ],
   "metadata": {
    "collapsed": false
   }
  },
  {
   "cell_type": "code",
   "execution_count": 35,
   "outputs": [],
   "source": [
    "ecolors = [\n",
    "    'lightgreen',\n",
    "    'lightcoral',\n",
    "    'lightblue'\n",
    "]\n",
    "\n",
    "dot_colors = [\n",
    "    'black',\n",
    "    'black',\n",
    "    'black',\n",
    "    # 'orange',\n",
    "    # 'mediumpurple',\n",
    "    # 'blue',\n",
    "]\n",
    "\n",
    "global_labels = {\n",
    "    \"\": \"All\",\n",
    "    \"positive\": \"Positive\",\n",
    "    \"negative\": \"Negative\"\n",
    "}\n",
    "\n",
    "polarity_labels = {\n",
    "    \"positive\": \"Positive\",\n",
    "    \"negative\": \"Negative\"\n",
    "}\n"
   ],
   "metadata": {
    "collapsed": false
   }
  },
  {
   "cell_type": "code",
   "execution_count": 36,
   "outputs": [
    {
     "data": {
      "text/plain": "<Figure size 1200x400 with 3 Axes>",
      "image/png": "[encoded data removed]"
     },
     "metadata": {},
     "output_type": "display_data"
    }
   ],
   "source": [
    "matplotlib.rc('text', usetex=True)\n",
    "plt.rcParams.update({'font.size': 11})\n",
    "fig, axes = plt.subplots(ncols=3, nrows=1, figsize=(12, 4),\n",
    "                         sharey=True,\n",
    "                         gridspec_kw={'width_ratios': [3, 3, 1]})\n",
    "axes = np.array([axes])\n",
    "\n",
    "error_bars_kwargs = {\"linestyle\": \"none\",\n",
    "                     \"elinewidth\": 5,\n",
    "                     \"capsize\": 5,\n",
    "                     \"fmt\": '.'\n",
    "                     }\n",
    "\n",
    "plt.xticks(rotation='vertical')\n",
    "for ax in axes.flatten():\n",
    "    ax.tick_params(axis='both', which='major', labelsize=11)\n",
    "    # ax.set_xticks(rotation='vertical')\n",
    "\n",
    "for pol_idx, polarity in enumerate([\"positive\", \"negative\"]):\n",
    "    ax = axes[0, pol_idx]\n",
    "    filtered_metrics = mean_metrics[mean_metrics.polarity == polarity].sort_values(metric + '_mean', ascending=False)\n",
    "    # print(f\"Plot results for task {TASK_NAME}:\")\n",
    "    # plt.rcParams.update({'font.size': 16})\n",
    "    # mean_metrics[\"Matrix (polarity)\"] = mean_metrics[\"matrix\"] + \" (\" + mean_metrics[\"polarity\"] + \")\"\n",
    "\n",
    "    # fig.tight_layout(h_pad=3, w_pad=2)\n",
    "    # fig.savefig(plots_dir / f\"{task_typename}_global_plot.pdf\")\n",
    "    #\n",
    "    sorted_matrices = filtered_metrics[filtered_metrics.train_setup == OUR_MODEL_NAME].sort_values(\n",
    "        metric + '_mean', ascending=False).matrix.reset_index(drop=True)\n",
    "    # Move the global score at the end:\n",
    "    target_row = sorted_matrices[sorted_matrices == GLOBAL_STRING].index.item()\n",
    "    idx = [i for i in range(len(sorted_matrices)) if i != target_row] + [target_row]\n",
    "    sorted_matrices = sorted_matrices.iloc[idx]\n",
    "    # print(sorted_matrices)\n",
    "\n",
    "    filtered_metrics = filtered_metrics.sort_values('train_setup', ascending=False)\n",
    "    for i, (train_setup, rows) in enumerate(filtered_metrics.groupby(\"train_setup\", sort=False)):\n",
    "        # print(rows)\n",
    "        df_to_plot = rows.set_index(\"matrix\", drop=True).loc[sorted_matrices]\n",
    "        if task_typename == \"regression\":\n",
    "            x_labels = pd.Series(\n",
    "                sorted_matrices.astype(\"str\").to_numpy() + \" (\" + df_to_plot[\"non-zero obs_mean\"].astype(\"int\").astype(\n",
    "                    \"str\").to_numpy() + \")\",\n",
    "                index=sorted_matrices.index)\n",
    "        else:\n",
    "            x_labels = sorted_matrices\n",
    "\n",
    "        ax.errorbar(x_labels.to_numpy(), df_to_plot[metric + '_mean'].to_numpy(),\n",
    "                    yerr=df_to_plot[metric + '_std'].to_numpy(),\n",
    "                    color=dot_colors[i], ecolor=ecolors[i],\n",
    "                    label=train_setup, **error_bars_kwargs)\n",
    "        # # Add a line separating the global results:\n",
    "        # ax.axvline(x=10.5)\n",
    "\n",
    "    # mean_metrics.set_index([\"matrix\", \"train_setup\"], drop=True)[metric].unstack(\"train_setup\").plot.err(ax=ax)\n",
    "    ax.legend(loc=\"lower left\")\n",
    "    if pol_idx == 0:\n",
    "        ax.set_ylabel(formatted_metric_names[metric])\n",
    "    # ax.set_xlabel(\"Matrix type\")\n",
    "    # ylims = [0.1*round(lim/0.1) for lim in ax.get_ylim()]\n",
    "    # ax.set_yticks(np.arange(ylims[0], ylims[1]+1*0.1, 0.1))\n",
    "    ax.grid(visible=True, alpha=0.3,\n",
    "            # axis='y'\n",
    "            )\n",
    "    ax.set_title(f\"{polarity_labels[polarity]} mode\")\n",
    "    plt.sca(ax)\n",
    "    plt.xticks(rotation=90)\n",
    "\n",
    "# ----------------------\n",
    "# Global scores, plot scores:\n",
    "# ----------------------\n",
    "ax = axes[0, 2]\n",
    "filtered_metrics = mean_metrics[mean_metrics.matrix == GLOBAL_STRING].sort_values(metric + '_mean', ascending=False)\n",
    "x_labels = pd.Series([global_labels[pol] for pol in filtered_metrics[\"polarity\"]]).astype(\"str\")\n",
    "if task_typename == \"regression\":\n",
    "    x_labels = x_labels.to_numpy() + \" (\" + filtered_metrics[\"non-zero obs_mean\"].astype(\"int\").astype(\n",
    "        \"str\").to_numpy() + \")\"\n",
    "else:\n",
    "    x_labels = x_labels.to_numpy()\n",
    "filtered_metrics[\"Matrix and polarity\"] = pd.Series(x_labels, index=filtered_metrics.index)\n",
    "# filtered_metrics[\"Matrix and polarity\"] = filtered_metrics[\"polarity\"] + \" polarity\"\n",
    "# filtered_metrics.loc[filtered_metrics.polarity == \"\", \"Matrix and polarity\"] = \"All matrices\"\n",
    "# print(f\"Plot results for task {TASK_NAME}:\")\n",
    "\n",
    "filtered_metrics = filtered_metrics.sort_values(\"Matrix and polarity\", ascending=False)\n",
    "\n",
    "for i, (train_setup, rows) in enumerate(filtered_metrics.groupby(\"train_setup\", sort=False)):\n",
    "    # print(train_setup)\n",
    "    # df_to_plot = rows.set_index(\"matrix\", drop=True).loc[sorted_matrices]\n",
    "    # if task_typename == \"regression\":\n",
    "    #     x_labels =  pd.Series(sorted_matrices.astype(\"str\").to_numpy() + \"(\" + df_to_plot[\"non-zero obs_mean\"].astype(\"int\").astype(\"str\").to_numpy() + \")\",\n",
    "    #                                 index=sorted_matrices.index)\n",
    "    # else:\n",
    "    #     x_labels = sorted_matrices\n",
    "\n",
    "    # ax.errorbar(x_labels.to_numpy(), df_to_plot[metric + '_mean'].to_numpy(), yerr=df_to_plot[metric+'_std'].to_numpy(),\n",
    "    #             color = dot_colors[i], ecolor = ecolors[i],\n",
    "    #           label=train_setup, **error_bars_kwargs)\n",
    "\n",
    "    p = ax.errorbar(\"Matrix and polarity\", metric + '_mean', yerr=metric + '_std', data=rows,\n",
    "                    color=dot_colors[i], ecolor=ecolors[i],\n",
    "                    label=train_setup, **error_bars_kwargs)\n",
    "    # # Add a line separating the global results:\n",
    "    # ax.axvline(x=10.5)\n",
    "\n",
    "# mean_metrics.set_index([\"matrix\", \"train_setup\"], drop=True)[metric].unstack(\"train_setup\").plot.err(ax=ax)\n",
    "ax.legend(loc=\"lower left\")\n",
    "# ax.set_ylabel(formatted_metric_names[metric])\n",
    "\n",
    "# ax.set_xlabel(\"Matrix type\")\n",
    "# ylims = [0.1*round(lim/0.1) for lim in ax.get_ylim()]\n",
    "# ylims = [0.3, 0.8]\n",
    "# ax.set_yticks(np.arange(ylims[0], ylims[1]+1*0.05, 0.05))\n",
    "ax.grid(visible=True, alpha=0.3,\n",
    "        # axis='y'\n",
    "        )\n",
    "ax.set_xlim(-1, 3)\n",
    "ax.set_title(\"Global scores\")\n",
    "plt.sca(ax)\n",
    "plt.xticks(rotation=90)\n",
    "\n",
    "# axes[0,0].get_shared_y_axes().join(axes[0,0], axes[0,1])\n",
    "# axes[0,0].get_shared_y_axes().join(axes[0,0], axes[0,2])\n",
    "\n",
    "# axes[1,0].get_shared_y_axes().join(axes[1,0], axes[1,1])\n",
    "# axes[1,0].get_shared_y_axes().join(axes[1,0], axes[1,2])\n",
    "\n",
    "\n",
    "fig.tight_layout(h_pad=2, w_pad=1)\n",
    "fig.savefig(plots_dir / f\"{task_typename}_scores.pdf\")\n"
   ],
   "metadata": {
    "collapsed": false
   }
  }
 ],
 "metadata": {
  "kernelspec": {
   "display_name": "Python 3",
   "language": "python",
   "name": "python3"
  },
  "language_info": {
   "codemirror_mode": {
    "name": "ipython",
    "version": 3
   },
   "file_extension": ".py",
   "mimetype": "text/x-python",
   "name": "python",
   "nbconvert_exporter": "python",
   "pygments_lexer": "ipython3",
   "version": "3.7.3"
  }
 },
 "nbformat": 4,
 "nbformat_minor": 2
}
