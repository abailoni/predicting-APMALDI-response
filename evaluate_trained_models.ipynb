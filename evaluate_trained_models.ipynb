{
 "cells": [
  {
   "cell_type": "markdown",
   "metadata": {},
   "source": [
    "# Evaluate trained models"
   ]
  },
  {
   "cell_type": "code",
   "execution_count": 1,
   "outputs": [],
   "source": [
    "from pathlib import Path\n",
    "\n",
    "import numpy as np\n",
    "import pandas as pd\n",
    "from matplotlib import pyplot as plt\n",
    "\n",
    "import matplotlib\n",
    "\n",
    "import predicting_APMALDI_response.evaluation_utils as evaluation_utils\n",
    "\n",
    "# plt.style.use('dark_background')\n",
    "plt.style.use('default')"
   ],
   "metadata": {
    "collapsed": false
   }
  },
  {
   "cell_type": "markdown",
   "source": [
    "### 1. Specify task to evaluate (to be updated update)\n",
    "Specify which task to evaluate: `detection_per_mol_sum` or `regression_on_detected_per_mol_sum`"
   ],
   "metadata": {
    "collapsed": false
   }
  },
  {
   "cell_type": "code",
   "execution_count": 16,
   "outputs": [],
   "source": [
    "# TASK_NAME = \"detection_per_mol_sum\"\n",
    "TASK_NAME = \"regression_on_detected_per_mol_sum\"\n",
    "\n",
    "# Name of the experiment where to find the training predictions (by default in `training_results/paper_results`):\n",
    "# EXP_NAME = \"paper_results\"\n",
    "EXP_NAME = \"new_random_experiments\""
   ],
   "metadata": {
    "collapsed": false
   }
  },
  {
   "cell_type": "markdown",
   "metadata": {},
   "source": [
    "### 2. Import training predictions and compute scores"
   ]
  },
  {
   "cell_type": "code",
   "execution_count": 17,
   "outputs": [],
   "source": [
    "plots_dir = Path.cwd() / \"./plots\" / EXP_NAME / TASK_NAME\n",
    "plots_dir.mkdir(exist_ok=True, parents=True)\n",
    "results_dir = Path.cwd() / \"./training_results\" / EXP_NAME / TASK_NAME\n",
    "raw_intensities_csv = Path.cwd() / \"./training_data/intensity_data_raw.csv\"\n"
   ],
   "metadata": {
    "collapsed": false
   }
  },
  {
   "cell_type": "code",
   "execution_count": 18,
   "outputs": [],
   "source": [
    "OUR_MODEL_NAME = \"NeuralNet\"\n",
    "\n",
    "selected_model = \"MLP\"\n",
    "plots_dir.mkdir(exist_ok=True, parents=True)\n",
    "\n",
    "filenames = {\n",
    "    OUR_MODEL_NAME: \"results_mol_feat.csv\",\n",
    "    \"Baseline\": \"results_random_feat.csv\",\n",
    "}\n",
    "\n",
    "formatted_metric_names = {\n",
    "    \"macro_avg_f1_score\": \"Macro-Avg-F1 Score\",\n",
    "    \"Spearman's R\": \"Spearman's R\",\n",
    "    \"Pearson's R\": \"Pearson's Correlation Coefficient (r)\",\n",
    "    \"RMSE\": \"Root Mean Squared Error (RMSE)\"\n",
    "}"
   ],
   "metadata": {
    "collapsed": false
   }
  },
  {
   "cell_type": "code",
   "execution_count": 19,
   "outputs": [],
   "source": [
    "if \"detection\" in TASK_NAME:\n",
    "    metric = \"macro_avg_f1_score\"\n",
    "    count_key = 'detected'\n",
    "    pval_metric = None\n",
    "    task_typename = \"classification\"\n",
    "elif \"regression\" in TASK_NAME or \"rank\" in TASK_NAME:\n",
    "    # metric = \"Spearman's R\"\n",
    "    # pval_metric = \"S pval\"\n",
    "    metric = \"Pearson's R\"\n",
    "    pval_metric = \"P pval\"\n",
    "    # metric = \"RMSE\"\n",
    "    # pval_metric = None\n",
    "    count_key = 'non-zero obs'\n",
    "    task_typename = \"regression\"\n",
    "else:\n",
    "    raise ValueError(TASK_NAME)\n",
    "\n"
   ],
   "metadata": {
    "collapsed": false
   }
  },
  {
   "cell_type": "code",
   "execution_count": 20,
   "outputs": [],
   "source": [
    "molecules_with_zero_charge = evaluation_utils.get_molecules_with_zero_formal_charge(\n",
    "    raw_intensities_csv)"
   ],
   "metadata": {
    "collapsed": false
   }
  },
  {
   "cell_type": "code",
   "execution_count": 21,
   "outputs": [],
   "source": [
    "# GLOBAL_STRING = r\"\\textbf{Global}\"\n",
    "GLOBAL_STRING = \"Global\"\n",
    "# Compute the actual scores:\n",
    "model_metrics, models_predictions, model_typename = evaluation_utils.compute_scores(\n",
    "    filenames, TASK_NAME, task_typename,\n",
    "    eval_feat_selection=False,\n",
    "    has_multiple_iterations=True,\n",
    "    name_global_column=GLOBAL_STRING,\n",
    "    molecules_with_zero_charge=molecules_with_zero_charge,\n",
    "    results_dir=results_dir)\n"
   ],
   "metadata": {
    "collapsed": false
   }
  },
  {
   "cell_type": "code",
   "execution_count": 22,
   "outputs": [],
   "source": [
    "index_columns = [\"matrix\", \"polarity\", \"train_setup\", \"model_type\",\n",
    "                 \"adduct_setup\"]\n",
    "\n",
    "# Take avg and std over multiple iterations:\n",
    "std_metrics = model_metrics.groupby(index_columns, as_index=True).std().drop(\n",
    "    columns=\"iter_index\")\n",
    "mean_metrics = model_metrics.groupby(index_columns, as_index=True).mean().drop(\n",
    "    columns=\"iter_index\")\n",
    "mean_metrics = mean_metrics.join(std_metrics, lsuffix='_mean',\n",
    "                                 rsuffix='_std').reset_index()"
   ],
   "metadata": {
    "collapsed": false
   }
  },
  {
   "cell_type": "code",
   "execution_count": 23,
   "outputs": [],
   "source": [
    "# model_metrics"
   ],
   "metadata": {
    "collapsed": false
   }
  },
  {
   "cell_type": "code",
   "execution_count": 24,
   "outputs": [],
   "source": [
    "if pval_metric is not None:\n",
    "    model_metrics[\"Significant\"] = model_metrics[pval_metric] < 0.05\n",
    "    model_metrics[index_columns + [\"Significant\"]].value_counts()"
   ],
   "metadata": {
    "collapsed": false
   }
  },
  {
   "cell_type": "markdown",
   "source": [
    "### Scatter plots predictions"
   ],
   "metadata": {
    "collapsed": false
   }
  },
  {
   "cell_type": "code",
   "execution_count": 11,
   "outputs": [],
   "source": [
    "import seaborn as sns\n",
    "\n",
    "predictions_csv = results_dir / \"results_mol_feat.csv\"\n",
    "predictions_csv_random = results_dir / \"results_random_feat.csv\"\n",
    "predictions_df = pd.read_csv(predictions_csv, index_col=0)\n",
    "predictions_df[\"train_setup\"] = OUR_MODEL_NAME\n",
    "predictions_random_df = pd.read_csv(predictions_csv_random, index_col=0)\n",
    "predictions_random_df[\"train_setup\"] = \"Baseline\"\n",
    "\n",
    "# Merge predictions:\n",
    "predictions_df = pd.concat([predictions_df, predictions_random_df])\n",
    "\n",
    "predictions_df.drop(columns=[\"fold\"], inplace=True)"
   ],
   "metadata": {
    "collapsed": false
   }
  },
  {
   "cell_type": "code",
   "execution_count": 205,
   "outputs": [],
   "source": [
    "# Average multiple predictions:\n",
    "predictions_df = predictions_df.groupby([model_typename, 'name_short', 'matrix',\n",
    "       'polarity', 'train_setup'], as_index=False).mean()\n",
    "predictions_df.drop(columns=[\"iter_index\"], inplace=True)"
   ],
   "metadata": {
    "collapsed": false
   }
  },
  {
   "cell_type": "code",
   "execution_count": 206,
   "outputs": [],
   "source": [
    "predictions_df[\"matrix_pol\"] = predictions_df[\"matrix\"] + \"_\" + predictions_df[\n",
    "    \"polarity\"]"
   ],
   "metadata": {
    "collapsed": false
   }
  },
  {
   "cell_type": "code",
   "execution_count": 208,
   "outputs": [],
   "source": [
    "chosen_polarity = \"negative\"\n",
    "# [predictions_df.polarity == \"negative\"]\n",
    "# predictions_df.plot.scatter(x='Measured intensity (log10[intensity+1])',\n",
    "#                             y='Predicted intensity (log10[intensity+1])',\n",
    "#                             c=predictions_df.matrix_pol)\n",
    "\n",
    "\n",
    "if task_typename == \"regression\":\n",
    "    masked_prediction_df = predictions_df[(predictions_df.polarity == chosen_polarity) &\n",
    "                                          (predictions_df['observed_value']>0) ]\n",
    "    masked_prediction_df.loc[masked_prediction_df['prediction'].isna(), 'prediction'] = 0\n",
    "\n",
    "    g = sns.FacetGrid(masked_prediction_df,\n",
    "                      hue=\"matrix\",\n",
    "                      col='train_setup',\n",
    "                      # row=optim_param_keys[1]\n",
    "                      height=6,\n",
    "                      )\n",
    "    g.map_dataframe(sns.scatterplot,\n",
    "                   x='observed_value',\n",
    "                   y='prediction',\n",
    "                    # hue=\"matrix_pol\",\n",
    "                   # palette=\"dark\",\n",
    "                    alpha=.6,\n",
    "                   # height=6\n",
    "                   )\n",
    "    g.add_legend()\n",
    "    plt.show()\n",
    "\n",
    "    g = sns.FacetGrid(masked_prediction_df,\n",
    "                      hue='train_setup',\n",
    "                      col=\"matrix\",\n",
    "                      # row=optim_param_keys[1],\n",
    "                      col_wrap=4,\n",
    "                      height=4,\n",
    "                      )\n",
    "    g.map_dataframe(sns.scatterplot,\n",
    "                   x='observed_value',\n",
    "                   y='prediction',\n",
    "                    # hue=\"matrix_pol\",\n",
    "                   # palette=\"dark\",\n",
    "                    alpha=.6,\n",
    "                   # height=6\n",
    "                   )\n",
    "    g.add_legend()\n",
    "    plt.show()"
   ],
   "metadata": {
    "collapsed": false
   }
  },
  {
   "cell_type": "code",
   "execution_count": 209,
   "outputs": [
    {
     "data": {
      "text/plain": "   train_setup matrix  polarity  observed_value  prediction   0  counts\n0     Baseline   MAPS  negative           False       False  99      99\n1     Baseline    9AA  negative            True        True  87      87\n2     Baseline   NEDC  negative           False       False  87      87\n3     Baseline   CMBT  negative           False       False  79      79\n4     Baseline    DAN  negative            True        True  75      75\n5     Baseline    NOR  negative            True        True  74      74\n6     Baseline  ClCCA  negative           False       False  58      58\n7     Baseline    pNA  negative            True        True  54      54\n8     Baseline    DHB  negative           False       False  51      51\n9     Baseline   CHCA  negative            True       False  45      45\n10    Baseline    DHB  negative            True       False  45      45\n11    Baseline  ClCCA  negative            True       False  44      44\n12    Baseline   DHAP  negative            True       False  43      43\n13    Baseline   CHCA  negative           False       False  43      43\n14    Baseline   DHAP  negative           False       False  42      42\n15    Baseline   CHCA  negative           False        True  41      41\n16    Baseline    NOR  negative            True       False  41      41\n17    Baseline    pNA  negative           False        True  40      40\n18    Baseline    DAN  negative            True       False  40      40\n19    Baseline   DHAP  negative           False        True  39      39\n20    Baseline   DHAP  negative            True        True  39      39\n21    Baseline  ClCCA  negative           False        True  39      39\n22    Baseline    DHB  negative           False        True  38      38\n23    Baseline   CMBT  negative            True       False  37      37\n24    Baseline    pNA  negative            True       False  36      36\n25    Baseline    9AA  negative            True       False  35      35\n26    Baseline   NEDC  negative           False        True  33      33\n27    Baseline   NEDC  negative            True       False  32      32\n28    Baseline    9AA  negative           False        True  31      31\n29    Baseline    DAN  negative           False        True  30      30\n30    Baseline    pNA  negative           False       False  30      30\n31    Baseline    NOR  negative           False        True  29      29\n32    Baseline   CMBT  negative           False        True  29      29\n33    Baseline   MAPS  negative            True       False  28      28\n34    Baseline   CHCA  negative            True        True  27      27\n35    Baseline   MAPS  negative           False        True  23      23\n36    Baseline    DHB  negative            True        True  19      19\n37    Baseline    DAN  negative           False       False  18      18\n38    Baseline    NOR  negative           False       False  17      17\n39    Baseline  ClCCA  negative            True        True  15      15\n40    Baseline   NEDC  negative            True        True  13      13\n41    Baseline   CMBT  negative            True        True  10      10\n42    Baseline    9AA  negative           False       False  10      10\n43    Baseline   MAPS  negative            True        True   8       8",
      "text/html": "<div>\n<style scoped>\n    .dataframe tbody tr th:only-of-type {\n        vertical-align: middle;\n    }\n\n    .dataframe tbody tr th {\n        vertical-align: top;\n    }\n\n    .dataframe thead th {\n        text-align: right;\n    }\n</style>\n<table border=\"1\" class=\"dataframe\">\n  <thead>\n    <tr style=\"text-align: right;\">\n      <th></th>\n      <th>train_setup</th>\n      <th>matrix</th>\n      <th>polarity</th>\n      <th>observed_value</th>\n      <th>prediction</th>\n      <th>0</th>\n      <th>counts</th>\n    </tr>\n  </thead>\n  <tbody>\n    <tr>\n      <th>0</th>\n      <td>Baseline</td>\n      <td>MAPS</td>\n      <td>negative</td>\n      <td>False</td>\n      <td>False</td>\n      <td>99</td>\n      <td>99</td>\n    </tr>\n    <tr>\n      <th>1</th>\n      <td>Baseline</td>\n      <td>9AA</td>\n      <td>negative</td>\n      <td>True</td>\n      <td>True</td>\n      <td>87</td>\n      <td>87</td>\n    </tr>\n    <tr>\n      <th>2</th>\n      <td>Baseline</td>\n      <td>NEDC</td>\n      <td>negative</td>\n      <td>False</td>\n      <td>False</td>\n      <td>87</td>\n      <td>87</td>\n    </tr>\n    <tr>\n      <th>3</th>\n      <td>Baseline</td>\n      <td>CMBT</td>\n      <td>negative</td>\n      <td>False</td>\n      <td>False</td>\n      <td>79</td>\n      <td>79</td>\n    </tr>\n    <tr>\n      <th>4</th>\n      <td>Baseline</td>\n      <td>DAN</td>\n      <td>negative</td>\n      <td>True</td>\n      <td>True</td>\n      <td>75</td>\n      <td>75</td>\n    </tr>\n    <tr>\n      <th>5</th>\n      <td>Baseline</td>\n      <td>NOR</td>\n      <td>negative</td>\n      <td>True</td>\n      <td>True</td>\n      <td>74</td>\n      <td>74</td>\n    </tr>\n    <tr>\n      <th>6</th>\n      <td>Baseline</td>\n      <td>ClCCA</td>\n      <td>negative</td>\n      <td>False</td>\n      <td>False</td>\n      <td>58</td>\n      <td>58</td>\n    </tr>\n    <tr>\n      <th>7</th>\n      <td>Baseline</td>\n      <td>pNA</td>\n      <td>negative</td>\n      <td>True</td>\n      <td>True</td>\n      <td>54</td>\n      <td>54</td>\n    </tr>\n    <tr>\n      <th>8</th>\n      <td>Baseline</td>\n      <td>DHB</td>\n      <td>negative</td>\n      <td>False</td>\n      <td>False</td>\n      <td>51</td>\n      <td>51</td>\n    </tr>\n    <tr>\n      <th>9</th>\n      <td>Baseline</td>\n      <td>CHCA</td>\n      <td>negative</td>\n      <td>True</td>\n      <td>False</td>\n      <td>45</td>\n      <td>45</td>\n    </tr>\n    <tr>\n      <th>10</th>\n      <td>Baseline</td>\n      <td>DHB</td>\n      <td>negative</td>\n      <td>True</td>\n      <td>False</td>\n      <td>45</td>\n      <td>45</td>\n    </tr>\n    <tr>\n      <th>11</th>\n      <td>Baseline</td>\n      <td>ClCCA</td>\n      <td>negative</td>\n      <td>True</td>\n      <td>False</td>\n      <td>44</td>\n      <td>44</td>\n    </tr>\n    <tr>\n      <th>12</th>\n      <td>Baseline</td>\n      <td>DHAP</td>\n      <td>negative</td>\n      <td>True</td>\n      <td>False</td>\n      <td>43</td>\n      <td>43</td>\n    </tr>\n    <tr>\n      <th>13</th>\n      <td>Baseline</td>\n      <td>CHCA</td>\n      <td>negative</td>\n      <td>False</td>\n      <td>False</td>\n      <td>43</td>\n      <td>43</td>\n    </tr>\n    <tr>\n      <th>14</th>\n      <td>Baseline</td>\n      <td>DHAP</td>\n      <td>negative</td>\n      <td>False</td>\n      <td>False</td>\n      <td>42</td>\n      <td>42</td>\n    </tr>\n    <tr>\n      <th>15</th>\n      <td>Baseline</td>\n      <td>CHCA</td>\n      <td>negative</td>\n      <td>False</td>\n      <td>True</td>\n      <td>41</td>\n      <td>41</td>\n    </tr>\n    <tr>\n      <th>16</th>\n      <td>Baseline</td>\n      <td>NOR</td>\n      <td>negative</td>\n      <td>True</td>\n      <td>False</td>\n      <td>41</td>\n      <td>41</td>\n    </tr>\n    <tr>\n      <th>17</th>\n      <td>Baseline</td>\n      <td>pNA</td>\n      <td>negative</td>\n      <td>False</td>\n      <td>True</td>\n      <td>40</td>\n      <td>40</td>\n    </tr>\n    <tr>\n      <th>18</th>\n      <td>Baseline</td>\n      <td>DAN</td>\n      <td>negative</td>\n      <td>True</td>\n      <td>False</td>\n      <td>40</td>\n      <td>40</td>\n    </tr>\n    <tr>\n      <th>19</th>\n      <td>Baseline</td>\n      <td>DHAP</td>\n      <td>negative</td>\n      <td>False</td>\n      <td>True</td>\n      <td>39</td>\n      <td>39</td>\n    </tr>\n    <tr>\n      <th>20</th>\n      <td>Baseline</td>\n      <td>DHAP</td>\n      <td>negative</td>\n      <td>True</td>\n      <td>True</td>\n      <td>39</td>\n      <td>39</td>\n    </tr>\n    <tr>\n      <th>21</th>\n      <td>Baseline</td>\n      <td>ClCCA</td>\n      <td>negative</td>\n      <td>False</td>\n      <td>True</td>\n      <td>39</td>\n      <td>39</td>\n    </tr>\n    <tr>\n      <th>22</th>\n      <td>Baseline</td>\n      <td>DHB</td>\n      <td>negative</td>\n      <td>False</td>\n      <td>True</td>\n      <td>38</td>\n      <td>38</td>\n    </tr>\n    <tr>\n      <th>23</th>\n      <td>Baseline</td>\n      <td>CMBT</td>\n      <td>negative</td>\n      <td>True</td>\n      <td>False</td>\n      <td>37</td>\n      <td>37</td>\n    </tr>\n    <tr>\n      <th>24</th>\n      <td>Baseline</td>\n      <td>pNA</td>\n      <td>negative</td>\n      <td>True</td>\n      <td>False</td>\n      <td>36</td>\n      <td>36</td>\n    </tr>\n    <tr>\n      <th>25</th>\n      <td>Baseline</td>\n      <td>9AA</td>\n      <td>negative</td>\n      <td>True</td>\n      <td>False</td>\n      <td>35</td>\n      <td>35</td>\n    </tr>\n    <tr>\n      <th>26</th>\n      <td>Baseline</td>\n      <td>NEDC</td>\n      <td>negative</td>\n      <td>False</td>\n      <td>True</td>\n      <td>33</td>\n      <td>33</td>\n    </tr>\n    <tr>\n      <th>27</th>\n      <td>Baseline</td>\n      <td>NEDC</td>\n      <td>negative</td>\n      <td>True</td>\n      <td>False</td>\n      <td>32</td>\n      <td>32</td>\n    </tr>\n    <tr>\n      <th>28</th>\n      <td>Baseline</td>\n      <td>9AA</td>\n      <td>negative</td>\n      <td>False</td>\n      <td>True</td>\n      <td>31</td>\n      <td>31</td>\n    </tr>\n    <tr>\n      <th>29</th>\n      <td>Baseline</td>\n      <td>DAN</td>\n      <td>negative</td>\n      <td>False</td>\n      <td>True</td>\n      <td>30</td>\n      <td>30</td>\n    </tr>\n    <tr>\n      <th>30</th>\n      <td>Baseline</td>\n      <td>pNA</td>\n      <td>negative</td>\n      <td>False</td>\n      <td>False</td>\n      <td>30</td>\n      <td>30</td>\n    </tr>\n    <tr>\n      <th>31</th>\n      <td>Baseline</td>\n      <td>NOR</td>\n      <td>negative</td>\n      <td>False</td>\n      <td>True</td>\n      <td>29</td>\n      <td>29</td>\n    </tr>\n    <tr>\n      <th>32</th>\n      <td>Baseline</td>\n      <td>CMBT</td>\n      <td>negative</td>\n      <td>False</td>\n      <td>True</td>\n      <td>29</td>\n      <td>29</td>\n    </tr>\n    <tr>\n      <th>33</th>\n      <td>Baseline</td>\n      <td>MAPS</td>\n      <td>negative</td>\n      <td>True</td>\n      <td>False</td>\n      <td>28</td>\n      <td>28</td>\n    </tr>\n    <tr>\n      <th>34</th>\n      <td>Baseline</td>\n      <td>CHCA</td>\n      <td>negative</td>\n      <td>True</td>\n      <td>True</td>\n      <td>27</td>\n      <td>27</td>\n    </tr>\n    <tr>\n      <th>35</th>\n      <td>Baseline</td>\n      <td>MAPS</td>\n      <td>negative</td>\n      <td>False</td>\n      <td>True</td>\n      <td>23</td>\n      <td>23</td>\n    </tr>\n    <tr>\n      <th>36</th>\n      <td>Baseline</td>\n      <td>DHB</td>\n      <td>negative</td>\n      <td>True</td>\n      <td>True</td>\n      <td>19</td>\n      <td>19</td>\n    </tr>\n    <tr>\n      <th>37</th>\n      <td>Baseline</td>\n      <td>DAN</td>\n      <td>negative</td>\n      <td>False</td>\n      <td>False</td>\n      <td>18</td>\n      <td>18</td>\n    </tr>\n    <tr>\n      <th>38</th>\n      <td>Baseline</td>\n      <td>NOR</td>\n      <td>negative</td>\n      <td>False</td>\n      <td>False</td>\n      <td>17</td>\n      <td>17</td>\n    </tr>\n    <tr>\n      <th>39</th>\n      <td>Baseline</td>\n      <td>ClCCA</td>\n      <td>negative</td>\n      <td>True</td>\n      <td>True</td>\n      <td>15</td>\n      <td>15</td>\n    </tr>\n    <tr>\n      <th>40</th>\n      <td>Baseline</td>\n      <td>NEDC</td>\n      <td>negative</td>\n      <td>True</td>\n      <td>True</td>\n      <td>13</td>\n      <td>13</td>\n    </tr>\n    <tr>\n      <th>41</th>\n      <td>Baseline</td>\n      <td>CMBT</td>\n      <td>negative</td>\n      <td>True</td>\n      <td>True</td>\n      <td>10</td>\n      <td>10</td>\n    </tr>\n    <tr>\n      <th>42</th>\n      <td>Baseline</td>\n      <td>9AA</td>\n      <td>negative</td>\n      <td>False</td>\n      <td>False</td>\n      <td>10</td>\n      <td>10</td>\n    </tr>\n    <tr>\n      <th>43</th>\n      <td>Baseline</td>\n      <td>MAPS</td>\n      <td>negative</td>\n      <td>True</td>\n      <td>True</td>\n      <td>8</td>\n      <td>8</td>\n    </tr>\n  </tbody>\n</table>\n</div>"
     },
     "execution_count": 209,
     "metadata": {},
     "output_type": "execute_result"
    }
   ],
   "source": [
    "if task_typename == \"classification\":\n",
    "    # Threshold the average predictions from multiple models:\n",
    "    predictions_df.loc[:, \"prediction\"] = predictions_df[\"prediction\"] > 0.5\n",
    "    predictions_df.loc[:, \"observed_value\"] = predictions_df[\"observed_value\"] > 0.5\n",
    "    predictions_df = predictions_df[predictions_df.polarity == chosen_polarity]\n",
    "    predictions_df = predictions_df[predictions_df.train_setup == \"Baseline\"]\n",
    "    value_counts = predictions_df[[\"train_setup\", \"matrix\", \"polarity\", \"observed_value\", \"prediction\"]].value_counts()\n",
    "    value_counts = value_counts.reset_index()\n",
    "    value_counts[\"counts\"] = value_counts[0].astype(\"int\")\n",
    "    # value_counts\n",
    "\n",
    "    g = sns.FacetGrid(value_counts,\n",
    "                  # hue=\"train_setup\",\n",
    "                  col='matrix',\n",
    "                  col_wrap=5,\n",
    "                  # height=6,\n",
    "                  )\n",
    "    for (row_i, col_j, cue), data_ijk in g.facet_data():\n",
    "        ax = g.facet_axis(row_i, col_j)\n",
    "        # print(data_ijk)\n",
    "        pivot = data_ijk.pivot(index='observed_value', columns='prediction', values='counts').fillna(0).astype(\"int\")\n",
    "\n",
    "        sns.heatmap(pivot, ax=ax,\n",
    "                    square=True,\n",
    "                    annot=True,\n",
    "                    fmt=\"d\"\n",
    "                    )\n",
    "        # sns.scatterplot(data=data_ijk,\n",
    "        #            x='observed_value',\n",
    "        #            y='prediction',\n",
    "        #             # hue=\"matrix_pol\",\n",
    "        #            # palette=\"dark\",\n",
    "        #             s=data_ijk['counts'].to_numpy(),\n",
    "        #             alpha=.6,\n",
    "        #            # height=6\n",
    "        #            )\n",
    "    # g.map_dataframe(sns.scatterplot,\n",
    "    #                x='observed_value',\n",
    "    #                y='prediction',\n",
    "    #                 # hue=\"matrix_pol\",\n",
    "    #                # palette=\"dark\",\n",
    "    #                 s='data',\n",
    "    #                 alpha=.6,\n",
    "    #                # height=6\n",
    "    #                )\n",
    "    g.add_legend()\n",
    "    plt.show()\n",
    "\n",
    "    value_counts = predictions_df[[\"train_setup\", \"observed_value\", \"prediction\"]].value_counts()\n",
    "    value_counts = value_counts.reset_index()\n",
    "    value_counts[\"counts\"] = value_counts[0]\n",
    "    # value_counts\n",
    "\n",
    "    pivot = value_counts.pivot(index='observed_value', columns='prediction', values='counts')\n",
    "    sns.heatmap(pivot,\n",
    "                # ax=ax,\n",
    "                    square=True,\n",
    "                annot=True,\n",
    "                fmt='d'\n",
    "                    )\n"
   ],
   "metadata": {
    "collapsed": false
   }
  },
  {
   "cell_type": "markdown",
   "source": [
    "### 3. Plot the achieved scores\n",
    "By default, plots will be saved in the directory `./plots/<EXP_NAME>/<TASK_NAME>`"
   ],
   "metadata": {
    "collapsed": false
   }
  },
  {
   "cell_type": "code",
   "execution_count": 25,
   "outputs": [],
   "source": [
    "# ecolors = [\n",
    "#     '#0C7BDC',\n",
    "#     '#FFC20A',\n",
    "#     'lightblue'\n",
    "# ]\n",
    "ecolors = {\n",
    "    OUR_MODEL_NAME: '#0C7BDC',\n",
    "    \"Baseline\": '#FFC20A',\n",
    "}\n",
    "\n",
    "dot_colors = [\n",
    "    'black',\n",
    "    'black',\n",
    "    'black',\n",
    "    # 'orange',\n",
    "    # 'mediumpurple',\n",
    "    # 'blue',\n",
    "]\n",
    "\n",
    "global_labels = {\n",
    "    \"\": \"All\",\n",
    "    \"positive\": \"Positive\",\n",
    "    \"negative\": \"Negative\"\n",
    "}\n",
    "\n",
    "polarity_labels = {\n",
    "    \"positive\": \"Positive\",\n",
    "    \"negative\": \"Negative\"\n",
    "}\n"
   ],
   "metadata": {
    "collapsed": false
   }
  },
  {
   "cell_type": "code",
   "execution_count": 26,
   "outputs": [
    {
     "data": {
      "text/plain": "<Figure size 1200x400 with 3 Axes>",
      "image/png": "[encoded data removed]"
     },
     "metadata": {},
     "output_type": "display_data"
    }
   ],
   "source": [
    "from matplotlib import rc\n",
    "\n",
    "# rc('font', **{'family': 'serif', 'serif': ['Arial']})\n",
    "# rc('text', usetex=False)\n",
    "# plt.rcParams.update({'font.size': 10})\n",
    "\n",
    "# Parameters suggested by Veronika:\n",
    "rc('font',**{'family':'sans-serif',\n",
    "             'sans-serif':['Arial'],\n",
    "             'size':10})\n",
    "rc('pdf', fonttype=42)\n",
    "rc('ps', fonttype=42)\n",
    "\n",
    "\n",
    "fig, axes = plt.subplots(ncols=3, nrows=1, figsize=(12, 4),\n",
    "                         sharey=True,\n",
    "                         gridspec_kw={'width_ratios': [1, 3, 3]})\n",
    "axes = np.array([axes])\n",
    "\n",
    "error_bars_kwargs = {\"linestyle\": \"none\",\n",
    "                     \"elinewidth\": 6,\n",
    "                     \"capsize\": 5,\n",
    "                     \"fmt\": '' if pval_metric is not None else \".\",\n",
    "                     \"markeredgecolor\": 'black',\n",
    "                    \"markerfacecolor\": \"white\",\n",
    "                     \"markersize\": 5 if pval_metric is not None else 9\n",
    "                     }\n",
    "# ecolors = {\n",
    "#     True: \"blue\",\n",
    "#     False: \"red\"\n",
    "# }\n",
    "\n",
    "plt.xticks(rotation='vertical')\n",
    "for ax in axes.flatten():\n",
    "    ax.tick_params(axis='both', which='major', labelsize=11)\n",
    "    # ax.set_xticks(rotation='vertical')\n",
    "\n",
    "for pol_idx, polarity in enumerate([\"positive\", \"negative\"]):\n",
    "    ax = axes[0, pol_idx + 1]\n",
    "    filtered_metrics = mean_metrics[\n",
    "        mean_metrics.polarity == polarity].sort_values(metric + '_mean',\n",
    "                                                       ascending=False)\n",
    "    # print(f\"Plot results for task {TASK_NAME}:\")\n",
    "    # plt.rcParams.update({'font.size': 16})\n",
    "    # mean_metrics[\"Matrix (polarity)\"] = mean_metrics[\"matrix\"] + \" (\" + mean_metrics[\"polarity\"] + \")\"\n",
    "\n",
    "    # fig.tight_layout(h_pad=3, w_pad=2)\n",
    "    # fig.savefig(plots_dir / f\"{task_typename}_global_plot.pdf\")\n",
    "    #\n",
    "    sorted_matrices = filtered_metrics[\n",
    "        filtered_metrics.train_setup == OUR_MODEL_NAME].sort_values(\n",
    "        metric + '_mean', ascending=False).matrix.reset_index(drop=True)\n",
    "    # Move the global score at the end:\n",
    "    target_row = sorted_matrices[sorted_matrices == GLOBAL_STRING].index.item()\n",
    "    idx = [i for i in range(len(sorted_matrices)) if i != target_row] + [\n",
    "        target_row]\n",
    "    sorted_matrices = sorted_matrices.iloc[idx]\n",
    "    # print(sorted_matrices)\n",
    "\n",
    "    filtered_metrics = filtered_metrics.sort_values('train_setup',\n",
    "                                                    ascending=False)\n",
    "    for i, (train_setup, rows) in enumerate(\n",
    "            filtered_metrics.groupby(\"train_setup\", sort=False)):\n",
    "        # print(rows)\n",
    "        df_to_plot = rows.set_index(\"matrix\", drop=True).loc[sorted_matrices]\n",
    "        if task_typename == \"regression\":\n",
    "            x_labels = pd.Series(\n",
    "                sorted_matrices.astype(\"str\").to_numpy() + \" (\" + df_to_plot[\n",
    "                    \"non-zero obs_mean\"].astype(\"int\").astype(\n",
    "                    \"str\").to_numpy() + \")\",\n",
    "                index=sorted_matrices.index)\n",
    "        else:\n",
    "            x_labels = sorted_matrices\n",
    "\n",
    "        ax.errorbar(x_labels.to_numpy(),\n",
    "                    df_to_plot[metric + '_mean'].to_numpy(),\n",
    "                    yerr=df_to_plot[metric + '_std'].to_numpy(),\n",
    "                    color=dot_colors[i], ecolor=ecolors[train_setup],\n",
    "                    label=train_setup, **error_bars_kwargs)\n",
    "        ax.get_xticklabels()[-1].set_weight(\"bold\")\n",
    "        if pval_metric is not None:\n",
    "            not_significant = df_to_plot[pval_metric + '_mean'] > 0.05\n",
    "            # not_significant_labels = x_labels[not_significant]\n",
    "            ax.scatter(x_labels.to_numpy()[~not_significant], df_to_plot[metric + '_mean'].to_numpy()[~not_significant],\n",
    "                       marker='^',\n",
    "                       s=25,\n",
    "                       color=\"white\",\n",
    "                       label=\"Significant\" if i == 0 else None,\n",
    "                       edgecolor='black',\n",
    "                       zorder=3)\n",
    "            ax.scatter(x_labels.to_numpy()[not_significant], df_to_plot[metric + '_mean'].to_numpy()[not_significant],\n",
    "                       marker='v',\n",
    "                       s=25,\n",
    "                       color=\"gray\",\n",
    "                       edgecolor='black',\n",
    "                       label=\"Not significant\" if i == 0 else None,\n",
    "                       zorder=3)\n",
    "        # else:\n",
    "        #     ax.scatter(x_labels.to_numpy(), df_to_plot[metric + '_mean'].to_numpy(),\n",
    "        #                marker='.',\n",
    "        #                s=25,\n",
    "        #                color=\"white\",\n",
    "        #                label=\"Significant\" if i == 0 else None,\n",
    "        #                edgecolor='black',\n",
    "        #                zorder=3)\n",
    "\n",
    "\n",
    "        # # Add a line separating the global results:\n",
    "        # ax.axvline(x=10.5)\n",
    "\n",
    "    # mean_metrics.set_index([\"matrix\", \"train_setup\"], drop=True)[metric].unstack(\"train_setup\").plot.err(ax=ax)\n",
    "    # ax.legend(loc=\"best\", prop={'size': 7})\n",
    "    # ax.set_xlabel(\"Matrix type\")\n",
    "    # ylims = [0.1*round(lim/0.1) for lim in ax.get_ylim()]\n",
    "    # ax.set_yticks(np.arange(ylims[0], ylims[1]+1*0.1, 0.1))\n",
    "    ax.grid(visible=True, alpha=0.3,\n",
    "            # axis='y'\n",
    "            )\n",
    "    ax.set_title(f\"{polarity_labels[polarity]} mode\")\n",
    "    plt.sca(ax)\n",
    "    plt.xticks(rotation=90)\n",
    "\n",
    "# ----------------------\n",
    "# Global scores, plot scores:\n",
    "# ----------------------\n",
    "ax = axes[0, 0]\n",
    "ax.set_ylabel(formatted_metric_names[metric])\n",
    "\n",
    "filtered_metrics = mean_metrics[\n",
    "    mean_metrics.matrix == GLOBAL_STRING].sort_values(metric + '_mean',\n",
    "                                                      ascending=False)\n",
    "x_labels = pd.Series(\n",
    "    [global_labels[pol] for pol in filtered_metrics[\"polarity\"]]).astype(\"str\")\n",
    "if task_typename == \"regression\":\n",
    "    x_labels = x_labels.to_numpy() + \" (\" + filtered_metrics[\n",
    "        \"non-zero obs_mean\"].astype(\"int\").astype(\n",
    "        \"str\").to_numpy() + \")\"\n",
    "else:\n",
    "    x_labels = x_labels.to_numpy()\n",
    "filtered_metrics[\"Matrix and polarity\"] = pd.Series(x_labels,\n",
    "                                                    index=filtered_metrics.index)\n",
    "# filtered_metrics[\"Matrix and polarity\"] = filtered_metrics[\"polarity\"] + \" polarity\"\n",
    "# filtered_metrics.loc[filtered_metrics.polarity == \"\", \"Matrix and polarity\"] = \"All matrices\"\n",
    "# print(f\"Plot results for task {TASK_NAME}:\")\n",
    "\n",
    "filtered_metrics = filtered_metrics.sort_values(\"Matrix and polarity\",\n",
    "                                                ascending=False)\n",
    "\n",
    "for i, (train_setup, rows) in enumerate(\n",
    "        filtered_metrics.groupby(\"train_setup\", sort=False)):\n",
    "    # print(train_setup)\n",
    "    # df_to_plot = rows.set_index(\"matrix\", drop=True).loc[sorted_matrices]\n",
    "    # if task_typename == \"regression\":\n",
    "    #     x_labels =  pd.Series(sorted_matrices.astype(\"str\").to_numpy() + \"(\" + df_to_plot[\"non-zero obs_mean\"].astype(\"int\").astype(\"str\").to_numpy() + \")\",\n",
    "    #                                 index=sorted_matrices.index)\n",
    "    # else:\n",
    "    #     x_labels = sorted_matrices\n",
    "\n",
    "    # ax.errorbar(x_labels.to_numpy(), df_to_plot[metric + '_mean'].to_numpy(), yerr=df_to_plot[metric+'_std'].to_numpy(),\n",
    "    #             color = dot_colors[i], ecolor = ecolors[i],\n",
    "    #           label=train_setup, **error_bars_kwargs)\n",
    "\n",
    "    p = ax.errorbar(\"Matrix and polarity\", metric + '_mean',\n",
    "                    yerr=metric + '_std', data=rows,\n",
    "                    color=dot_colors[i], ecolor=ecolors[train_setup],\n",
    "                    label=train_setup, **error_bars_kwargs)\n",
    "    if pval_metric is not None:\n",
    "        ax.scatter(\"Matrix and polarity\", metric + '_mean',\n",
    "               data=rows,\n",
    "               marker='^',\n",
    "               s=25,\n",
    "               color=\"white\",\n",
    "               edgecolor='black',\n",
    "               zorder=3,\n",
    "               label=\"Significant\" if i == 0  else None)\n",
    "        ax.scatter(\"Matrix and polarity\", metric + '_mean',\n",
    "               data=rows.iloc[[]],\n",
    "               marker='v',\n",
    "               s=25,\n",
    "               color=\"grey\",\n",
    "               edgecolor='black',\n",
    "               zorder=3,\n",
    "               label=\"Not significant\" if i == 0  else None)\n",
    "\n",
    "\n",
    "\n",
    "    # # Add a line separating the global results:\n",
    "    # ax.axvline(x=10.5)\n",
    "\n",
    "# mean_metrics.set_index([\"matrix\", \"train_setup\"], drop=True)[metric].unstack(\"train_setup\").plot.err(ax=ax)\n",
    "ax.legend(loc=\"best\", prop={'size': 9})\n",
    "# ax.set_ylabel(formatted_metric_names[metric])\n",
    "\n",
    "# ax.set_xlabel(\"Matrix type\")\n",
    "# ylims = [0.1*round(lim/0.1) for lim in ax.get_ylim()]\n",
    "# ylims = [0.3, 0.8]\n",
    "# ax.set_yticks(np.arange(ylims[0], ylims[1]+1*0.05, 0.05))\n",
    "ax.grid(visible=True, alpha=0.3,\n",
    "        # axis='y'\n",
    "        )\n",
    "ax.set_xlim(-1, 3)\n",
    "ax.set_title(\"Global scores\")\n",
    "plt.sca(ax)\n",
    "plt.xticks(rotation=90)\n",
    "\n",
    "# axes[0,0].get_shared_y_axes().join(axes[0,0], axes[0,1])\n",
    "# axes[0,0].get_shared_y_axes().join(axes[0,0], axes[0,2])\n",
    "\n",
    "# axes[1,0].get_shared_y_axes().join(axes[1,0], axes[1,1])\n",
    "# axes[1,0].get_shared_y_axes().join(axes[1,0], axes[1,2])\n",
    "\n",
    "\n",
    "fig.tight_layout(h_pad=2, w_pad=1)\n",
    "fig.savefig(plots_dir / f\"{task_typename}_scores.pdf\")\n",
    "fig.savefig(plots_dir / f\"{task_typename}_scores.png\", dpi=400)\n"
   ],
   "metadata": {
    "collapsed": false
   }
  },
  {
   "cell_type": "code",
   "execution_count": 15,
   "outputs": [
    {
     "data": {
      "text/plain": "PosixPath('/Users/alberto-mac/EMBL_repos/spotting-project-regression/plots/new_random_experiments/detection_per_mol_sum')"
     },
     "execution_count": 15,
     "metadata": {},
     "output_type": "execute_result"
    }
   ],
   "source": [
    "plots_dir"
   ],
   "metadata": {
    "collapsed": false
   }
  },
  {
   "cell_type": "code",
   "execution_count": 23,
   "outputs": [],
   "source": [],
   "metadata": {
    "collapsed": false
   }
  }
 ],
 "metadata": {
  "kernelspec": {
   "display_name": "Python 3",
   "language": "python",
   "name": "python3"
  },
  "language_info": {
   "codemirror_mode": {
    "name": "ipython",
    "version": 3
   },
   "file_extension": ".py",
   "mimetype": "text/x-python",
   "name": "python",
   "nbconvert_exporter": "python",
   "pygments_lexer": "ipython3",
   "version": "3.7.3"
  }
 },
 "nbformat": 4,
 "nbformat_minor": 2
}
