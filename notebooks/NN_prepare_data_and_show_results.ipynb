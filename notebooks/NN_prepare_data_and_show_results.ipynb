{
 "cells": [
  {
   "cell_type": "markdown",
   "metadata": {
    "collapsed": true,
    "pycharm": {
     "name": "#%% md\n"
    }
   },
   "source": [
    "# Prepare data for training NN\n"
   ]
  },
  {
   "cell_type": "code",
   "execution_count": 4,
   "metadata": {
    "pycharm": {
     "name": "#%%\n"
    }
   },
   "outputs": [],
   "source": [
    "import scipy.cluster.hierarchy\n",
    "from sklearn.model_selection import train_test_split\n",
    "from pathlib import Path\n",
    "\n",
    "import numpy as np\n",
    "import pandas as pd\n",
    "from matplotlib import pyplot as plt\n",
    "\n",
    "\n",
    "plt.style.use('dark_background')\n",
    "\n"
   ]
  },
  {
   "cell_type": "markdown",
   "source": [
    "First, prepare data using old code in `train_models.py`:"
   ],
   "metadata": {
    "collapsed": false,
    "pycharm": {
     "name": "#%% md\n"
    }
   }
  },
  {
   "cell_type": "code",
   "execution_count": 6,
   "metadata": {
    "pycharm": {
     "name": "#%%\n"
    }
   },
   "outputs": [
    {
     "name": "stdout",
     "output_type": "stream",
     "text": [
      "Number of fingerprints:  169\n",
      "Number of mol properties:  172\n",
      "Molecules with missing fingerprints: \n",
      "['Adenosine triphosphate', 'Ribose 5-phosphate', 'Spermine']\n",
      "169/172 molecules kept\n"
     ]
    }
   ],
   "source": [
    "# Paths:\n",
    "input_dir = Path.cwd() / \"../input_data\"\n",
    "plots_dir = Path.cwd() / \"../plots\"\n",
    "plots_dir.mkdir(exist_ok=True)\n",
    "result_dir = Path.cwd() / \"../results/multioutput\"\n",
    "result_dir.mkdir(exist_ok=True, parents=True)\n",
    "\n",
    "# ## Loading data\n",
    "# Loading fingerprints, and molecule properties\n",
    "\n",
    "# Load fingerprints:\n",
    "fingerprints = pd.read_csv(input_dir / \"fingerprints.csv\", index_col=0)\n",
    "fingerprints.sort_index(inplace=True)\n",
    "# There seems to be some duplicates in the rows:\n",
    "fingerprints.drop_duplicates(inplace=True)\n",
    "# Save columns names:\n",
    "fingerprints_cols = fingerprints.columns\n",
    "\n",
    "# Load properties:\n",
    "mol_properties = pd.read_csv(input_dir / \"physchem_properties.csv\", index_col=0)\n",
    "mol_properties.sort_index(inplace=True)\n",
    "mol_properties.drop_duplicates(inplace=True)\n",
    "# mol_properties.set_index(\"name_short\", inplace=True)\n",
    "mol_properties_cols = mol_properties.columns\n",
    "\n",
    "# Check statistics of molecular properties and handle NaN values:\n",
    "# Check for NaN values:\n",
    "is_null = mol_properties.isnull()\n",
    "\n",
    "# TODO: temporarely set NaN to zero\n",
    "mol_properties[is_null] = 0.\n",
    "\n",
    "# Perform some basic checks:\n",
    "assert fingerprints.index.is_unique\n",
    "assert mol_properties.index.is_unique\n",
    "\n",
    "print(\"Number of fingerprints: \", len(fingerprints))\n",
    "print(\"Number of mol properties: \", len(mol_properties))\n",
    "print(\"Molecules with missing fingerprints: \")\n",
    "missing_molecules = list(mol_properties[~ mol_properties.index.isin(fingerprints.index)].index)\n",
    "print(missing_molecules)\n",
    "\n",
    "# Merge fingerprints and properties:\n",
    "all_mol_features = pd.merge(mol_properties, fingerprints, how=\"inner\", right_index=True, left_index=True)\n",
    "\n",
    "# ### Loading intensities\n",
    "# Intensities:\n",
    "intensities = pd.read_csv(input_dir / \"3june22_ions_no_nl.csv\", index_col=0)\n",
    "intensities = intensities.rename(columns={\"Matrix short\": \"matrix\", \"Polarity\": \"polarity\"})\n",
    "nb_before = len(intensities.name_short.unique())\n",
    "\n",
    "# Delete molecules with missing properties:\n",
    "intensities = intensities[~intensities.name_short.isin(missing_molecules)]\n",
    "print(\"{}/{} molecules kept\".format(len(intensities.name_short.unique()), nb_before))\n",
    "\n",
    "# #### Remove molecule-adduct combinations that were never observed in any matrix\n",
    "\n",
    "remove_not_detected_adducts = False\n",
    "\n",
    "if remove_not_detected_adducts:\n",
    "    g = intensities.groupby([\"name_short\", \"adduct\"], as_index=False)[\"detected\"].max()\n",
    "    nb_comb_before = intensities.shape[0]\n",
    "    intensities = intensities.merge(g[g[\"detected\"] == 1][[\"name_short\", \"adduct\"]])\n",
    "    print(\"{}/{} combinations of molecules/adduct with non-zero observed values\".format(intensities.shape[0],\n",
    "                                                                                        nb_comb_before))\n",
    "\n",
    "    # Now check if some molecules are never observed (for any adduct) and\n",
    "    # remove them from the feature vectors:\n",
    "    nb_mol_before = len(all_mol_features.index)\n",
    "    all_mol_features = all_mol_features[all_mol_features.index.isin(intensities[\"name_short\"].unique())]\n",
    "    print(\"{}/{} molecules with non-zero observed values\".format(len(all_mol_features.index), nb_mol_before))\n",
    "\n",
    "# #### How many molecules-adduct observed per matrix-polarity\n",
    "\n",
    "g = intensities.groupby(['matrix', 'polarity'], as_index=False)\n",
    "detected_ratio = g[\"detected\"].apply(lambda x: x.sum() / x.shape[0])\n",
    "detected_ratio[\"Sum detected\"] = g[\"detected\"].sum()[\"detected\"]\n",
    "\n",
    "# Show values:\n",
    "detected_ratio.sort_values(\"detected\", ascending=False).rename(columns={\"detected\": \"Ratio detected molecules\"})\n",
    "\n",
    "# Convert adducts to one-hot encoding:\n",
    "adducts_one_hot = pd.get_dummies(intensities.adduct, prefix='adduct')\n",
    "adducts_columns = adducts_one_hot.columns\n",
    "intensities = intensities.merge(right=adducts_one_hot, right_index=True, left_index=True)\n",
    "\n",
    "\n",
    "from sklearn.preprocessing import StandardScaler\n",
    "from sklearn.preprocessing import PowerTransformer\n",
    "\n",
    "ss = StandardScaler()\n",
    "pt = PowerTransformer()\n",
    "\n",
    "# OPTION 1\n",
    "features_norm_df = pd.DataFrame(pt.fit_transform(all_mol_features),\n",
    "                                index=all_mol_features.index,\n",
    "                                columns=all_mol_features.columns)\n",
    "\n",
    "# OPTION 2\n",
    "# features_norm_df = pd.DataFrame(ss.fit_transform(all_mol_features), index = all_mol_features.index, columns = all_mol_features.columns)\n",
    "\n",
    "# OPTION 3 (Seurat normalization)\n",
    "# features_norm_df = np.log2((all_mol_features.T / all_mol_features.T.sum().values) * 10000 + 1).T\n",
    "\n",
    "\n",
    "# V1 normalization:\n",
    "intensities[\"norm_intensity\"] = pt.fit_transform(intensities[[\"spot_intensity\"]])\n",
    "\n",
    "# V2:\n",
    "numpy_intensities = intensities[[\"spot_intensity\"]].to_numpy()\n",
    "intensities[\"norm_intensity_seurat\"] = np.log2((numpy_intensities.T / numpy_intensities.T.sum()) * 10000 + 1).T\n",
    "\n"
   ]
  },
  {
   "cell_type": "markdown",
   "metadata": {
    "pycharm": {
     "name": "#%% md\n"
    }
   },
   "source": [
    "### Train-Valid split using hierarchical clustering:"
   ]
  },
  {
   "cell_type": "code",
   "execution_count": 8,
   "metadata": {
    "pycharm": {
     "name": "#%%\n"
    }
   },
   "outputs": [],
   "source": [
    "# Discretize the intensity:\n",
    "\n",
    "intensities[\"detected\"] = (intensities[\"spot_intensity\"] > 100).astype(\"int\")"
   ]
  },
  {
   "cell_type": "code",
   "execution_count": 121,
   "outputs": [
    {
     "data": {
      "text/plain": "0    20820\n1     2344\n2      341\n3      121\n4       34\nName: digitized, dtype: int64"
     },
     "execution_count": 121,
     "metadata": {},
     "output_type": "execute_result"
    },
    {
     "data": {
      "text/plain": "<Figure size 432x288 with 1 Axes>",
      "image/png": "[encoded data removed]"
     },
     "metadata": {},
     "output_type": "display_data"
    }
   ],
   "source": [
    "# Recompute Seurat, taking care of setting noisy predictions (<100) to zero:\n",
    "intensities[\"norm_intensity_seurat\"] = intensities[\"spot_intensity\"]\n",
    "intensities.loc[intensities[\"spot_intensity\"] < 100, \"norm_intensity_seurat\"] = 0\n",
    "numpy_intensities = intensities[[\"norm_intensity_seurat\"]].to_numpy()\n",
    "intensities[\"norm_intensity_seurat\"] = np.log2((numpy_intensities.T / numpy_intensities.T.sum()) * 10000 + 1).T\n",
    "\n",
    "# Now digitize them:\n",
    "zero_mask = intensities[\"norm_intensity_seurat\"] == 0\n",
    "intensities.loc[~zero_mask,\"norm_intensity_seurat\"].hist(bins=4)\n",
    "_, bins = np.histogram(intensities[\"norm_intensity_seurat\"], bins=4)\n",
    "bins[-1] += 0.1 # Make sure to include the last point in the last bin\n",
    "intensities[\"digitized\"] = np.digitize(intensities[\"norm_intensity_seurat\"], bins=bins)\n",
    "# Add the original zero mask:\n",
    "intensities.loc[zero_mask, \"digitized\"] = 0\n",
    "intensities[\"digitized\"].value_counts()\n",
    "\n"
   ],
   "metadata": {
    "collapsed": false,
    "pycharm": {
     "name": "#%%\n"
    }
   }
  },
  {
   "cell_type": "markdown",
   "source": [
    "#### Use hierarchical clustering to get decent train-test split\n",
    "First, we compute the Y digitized matrix:"
   ],
   "metadata": {
    "collapsed": false,
    "pycharm": {
     "name": "#%% md\n"
    }
   }
  },
  {
   "cell_type": "code",
   "execution_count": 124,
   "outputs": [],
   "source": [
    "# features_normalized = features_norm_df\n",
    "features_normalized = features_norm_df[mol_properties_cols]\n",
    "intensity_column = \"digitized\"\n",
    "test_split_col_name = 'combined'"
   ],
   "metadata": {
    "collapsed": false,
    "pycharm": {
     "name": "#%%\n"
    }
   }
  },
  {
   "cell_type": "code",
   "execution_count": 125,
   "outputs": [],
   "source": [
    "sorted_intensities = intensities.sort_values(by=['name_short', 'adduct', \"matrix\", \"polarity\"])\n",
    "sorted_intensities = pd.merge(sorted_intensities,\n",
    "                              features_normalized,\n",
    "                              how=\"left\",\n",
    "                              right_index=True,\n",
    "                              left_on=\"name_short\"\n",
    "                              ).reset_index(drop=True)\n",
    "\n",
    "\n",
    "matrix_names = sorted_intensities[[\"matrix\", \"polarity\"]].drop_duplicates()\n",
    "out_multi_index = pd.MultiIndex.from_arrays([matrix_names[\"matrix\"], matrix_names[\"polarity\"]])"
   ],
   "metadata": {
    "collapsed": false,
    "pycharm": {
     "name": "#%%\n"
    }
   }
  },
  {
   "cell_type": "code",
   "execution_count": 126,
   "outputs": [],
   "source": [
    "g = sorted_intensities.groupby(by=['name_short', 'adduct'])\n",
    "Y = np.array([rows.to_numpy() for _, rows in g[intensity_column]])\n",
    "X = np.array([rows.iloc[0].to_numpy() for _, rows in\n",
    "                    g[adducts_columns.tolist() + features_normalized.columns.tolist()]])\n",
    "\n",
    "mol_names = pd.DataFrame([[name, adduct] for (name, adduct), _ in g],\n",
    "                              columns=[\"name_short\", \"adduct\"])\n"
   ],
   "metadata": {
    "collapsed": false,
    "pycharm": {
     "name": "#%%\n"
    }
   }
  },
  {
   "cell_type": "markdown",
   "source": [
    "#### Visualize Heatmap and dendrogram\n",
    "Now cluster rows according to their similarity:"
   ],
   "metadata": {
    "collapsed": false,
    "pycharm": {
     "name": "#%% md\n"
    }
   }
  },
  {
   "cell_type": "code",
   "execution_count": 130,
   "outputs": [
    {
     "name": "stderr",
     "output_type": "stream",
     "text": [
      "/Users/alberto-mac/miniforge3/envs/pyTorch/lib/python3.8/site-packages/seaborn/matrix.py:654: UserWarning: Clustering large matrix with scipy. Installing `fastcluster` may give better performance.\n",
      "  warnings.warn(msg)\n"
     ]
    },
    {
     "data": {
      "text/plain": "<Figure size 720x720 with 4 Axes>",
      "image/png": "[encoded data removed]"
     },
     "metadata": {},
     "output_type": "display_data"
    }
   ],
   "source": [
    "import seaborn as sns\n",
    "sns.set_theme(color_codes=True)\n",
    "# species = iris.pop(\"species\")\n",
    "\n",
    "# Exclude zero rows:\n",
    "Y_filtered = Y[Y.sum(axis=1) != 0]\n",
    "g = sns.clustermap(Y, method='ward')\n"
   ],
   "metadata": {
    "collapsed": false,
    "pycharm": {
     "name": "#%%\n"
    }
   }
  },
  {
   "cell_type": "code",
   "execution_count": 133,
   "outputs": [
    {
     "data": {
      "text/plain": "<Figure size 1440x1440 with 1 Axes>",
      "image/png": "[encoded data removed]"
     },
     "metadata": {},
     "output_type": "display_data"
    }
   ],
   "source": [
    "import numpy as np\n",
    "\n",
    "from matplotlib import pyplot as plt\n",
    "from scipy.cluster.hierarchy import dendrogram\n",
    "from sklearn.datasets import load_iris\n",
    "from sklearn.cluster import AgglomerativeClustering\n",
    "\n",
    "\n",
    "def fancy_dendrogram(*args, **kwargs):\n",
    "    max_d = kwargs.pop('max_d', None)\n",
    "    if max_d and 'color_threshold' not in kwargs:\n",
    "        kwargs['color_threshold'] = max_d\n",
    "    annotate_above = kwargs.pop('annotate_above', 0)\n",
    "\n",
    "    ddata = dendrogram(*args, **kwargs)\n",
    "\n",
    "    if not kwargs.get('no_plot', False):\n",
    "        plt.title('Hierarchical Clustering Dendrogram (truncated)')\n",
    "        plt.xlabel('sample index or (cluster size)')\n",
    "        plt.ylabel('distance')\n",
    "        for i, d, c in zip(ddata['icoord'], ddata['dcoord'], ddata['color_list']):\n",
    "            x = 0.5 * sum(i[1:3])\n",
    "            y = d[1]\n",
    "            if y > annotate_above:\n",
    "                plt.plot(x, y, 'o', c=c)\n",
    "                plt.annotate(\"%.3g\" % y, (x, y), xytext=(0, -5),\n",
    "                             textcoords='offset points',\n",
    "                             va='top', ha='center')\n",
    "        if max_d:\n",
    "            plt.axhline(y=max_d, c='k')\n",
    "    return ddata\n",
    "\n",
    "\n",
    "# iris = load_iris()\n",
    "# X = iris.data\n",
    "\n",
    "# setting distance_threshold=0 ensures we compute the full tree.\n",
    "# model = AgglomerativeClustering(distance_threshold=0, n_clusters=None)\n",
    "import scipy.cluster.hierarchy\n",
    "Z_clust = scipy.cluster.hierarchy.linkage(Y, method=\"ward\")\n",
    "\n",
    "out_clustering = scipy.cluster.hierarchy.fcluster(Z_clust, t=5, criterion=\"distance\")\n",
    "\n",
    "\n",
    "# Z_clust = hier_clust.fit(Y_filtered)\n",
    "# plot the top three levels of the dendrogram\n",
    "fig, ax = plt.subplots(1,1,figsize=(20,20))\n",
    "plt.title(\"Hierarchical Clustering Dendrogram\")\n",
    "fancy_dendrogram(Z_clust, truncate_mode=\"lastp\", p=40, ax=ax,\n",
    "                color_threshold=3, max_d=5)\n",
    "plt.xlabel(\"Number of points in node (or index of point if no parenthesis).\")\n",
    "plt.show()\n",
    "fig.savefig(plots_dir / \"dendrogram.pdf\")"
   ],
   "metadata": {
    "collapsed": false,
    "pycharm": {
     "name": "#%%\n"
    }
   }
  },
  {
   "cell_type": "code",
   "execution_count": 134,
   "outputs": [
    {
     "data": {
      "text/plain": "(array([ 1,  2,  3,  4,  5,  6,  7,  8,  9, 10, 11, 12, 13, 14, 15, 16, 17,\n        18, 19, 20, 21, 22, 23, 24, 25, 26], dtype=int32),\n array([  6,  11,   5,  12,  19,  22,  23,  43,  48,  42,  41,  35,  28,\n         23,  35, 603,  26,  22,  32,  26,  12,  31,   6,  12,   3,  17]))"
     },
     "execution_count": 134,
     "metadata": {},
     "output_type": "execute_result"
    }
   ],
   "source": [
    "np.unique(out_clustering, return_counts=True)\n",
    "\n",
    "\n"
   ],
   "metadata": {
    "collapsed": false,
    "pycharm": {
     "name": "#%%\n"
    }
   }
  },
  {
   "cell_type": "markdown",
   "source": [
    "#### Finally, compute split\n",
    "Based on dendrogram clusters used as stratification classes"
   ],
   "metadata": {
    "collapsed": false,
    "pycharm": {
     "name": "#%% md\n"
    }
   }
  },
  {
   "cell_type": "code",
   "execution_count": 135,
   "outputs": [],
   "source": [
    "train_index, test_index = train_test_split(range(X.shape[0]), test_size=0.10,\n",
    "                                           stratify=out_clustering,\n",
    "                                           shuffle=True,\n",
    "                                           random_state=45)\n"
   ],
   "metadata": {
    "collapsed": false,
    "pycharm": {
     "name": "#%%\n"
    }
   }
  },
  {
   "cell_type": "markdown",
   "source": [
    "Save results that will be used for training:"
   ],
   "metadata": {
    "collapsed": false,
    "pycharm": {
     "name": "#%% md\n"
    }
   }
  },
  {
   "cell_type": "code",
   "execution_count": 140,
   "outputs": [],
   "source": [
    "# For the moment, riconvert Y to binary:\n",
    "\n",
    "# Save data:\n",
    "out_dir = input_dir / \"numpy\"\n",
    "out_dir.mkdir(exist_ok=True)\n",
    "np.save(out_dir / \"train_indices\", np.array(train_index))\n",
    "np.save(out_dir / \"test_indices\", np.array(test_index))\n",
    "np.save(out_dir / \"X\", X)\n",
    "np.save(out_dir / \"Y\", (Y > 0).astype('int'))\n",
    "np.save(out_dir / \"stratification_classes\", out_clustering.astype('int'))\n",
    "\n",
    "\n",
    "\n",
    "\n"
   ],
   "metadata": {
    "collapsed": false,
    "pycharm": {
     "name": "#%%\n"
    }
   }
  },
  {
   "cell_type": "markdown",
   "source": [
    "# Show results NN training\n"
   ],
   "metadata": {
    "collapsed": false
   }
  },
  {
   "cell_type": "code",
   "execution_count": null,
   "outputs": [],
   "source": [
    "nn_results = pd.read_csv(\"/Users/alberto-mac/EMBL_repos/spotting-project-regression/results/nn_results.csv\",\n",
    "                         index_col=0)\n",
    "nn_results.sort_index(inplace=True)"
   ],
   "metadata": {
    "collapsed": false,
    "pycharm": {
     "name": "#%%\n"
    }
   }
  },
  {
   "cell_type": "code",
   "execution_count": null,
   "outputs": [],
   "source": [
    "sns.clustermap(nn_results.drop(columns=\"fold\").to_numpy(), method='ward')"
   ],
   "metadata": {
    "collapsed": false,
    "pycharm": {
     "name": "#%%\n"
    }
   }
  },
  {
   "cell_type": "code",
   "execution_count": null,
   "outputs": [],
   "source": [
    "sns.clustermap(np.abs((Y>0) - nn_results.drop(columns=\"fold\").to_numpy()), method='ward')\n"
   ],
   "metadata": {
    "collapsed": false,
    "pycharm": {
     "name": "#%%\n"
    }
   }
  },
  {
   "cell_type": "code",
   "execution_count": null,
   "outputs": [],
   "source": [
    "# Reshape results:\n",
    "results = pd.DataFrame(Y, columns=out_multi_index).stack(\n",
    "                    [i for i in range(len(out_multi_index.levels))]).reset_index().drop(columns=[\"level_0\"]).rename(\n",
    "                    columns={0: \"observed_value\"})\n",
    "results['prediction'] = pd.DataFrame(nn_results.drop(columns=\"fold\").to_numpy(), columns=out_multi_index).stack(\n",
    "    [i for i in range(len(out_multi_index.levels))]).reset_index()[0]\n",
    "results['regressor'] = \"NeuralNet\"\n",
    "results['fold'] = nn_results[\"fold\"]\n",
    "results.reset_index(drop=True, inplace=True)"
   ],
   "metadata": {
    "collapsed": false,
    "pycharm": {
     "name": "#%%\n"
    }
   }
  },
  {
   "cell_type": "code",
   "execution_count": null,
   "outputs": [],
   "source": [
    "# Binarize prediction:\n",
    "results[\"prediction\"] = (results[\"prediction\"] > 0.5).astype('int')\n"
   ],
   "metadata": {
    "collapsed": false,
    "pycharm": {
     "name": "#%%\n"
    }
   }
  },
  {
   "cell_type": "markdown",
   "source": [
    "## Evaluation of classification"
   ],
   "metadata": {
    "collapsed": false
   }
  },
  {
   "cell_type": "code",
   "execution_count": null,
   "outputs": [],
   "source": [
    "detection_results = results.copy()"
   ],
   "metadata": {
    "collapsed": false,
    "pycharm": {
     "name": "#%%\n"
    }
   }
  },
  {
   "cell_type": "code",
   "execution_count": null,
   "outputs": [],
   "source": [
    "from sklearn.metrics import classification_report\n",
    "\n",
    "score_cols = ['not_det_precision', 'not_det_recall', 'not_det_f1', 'not_detected',\n",
    "                                            'det_precision', 'det_recall', 'det_f1', 'detected']\n",
    "\n",
    "detection_metrics = pd.DataFrame(columns = ['matrix', 'polarity', 'classifier'] + score_cols)\n",
    "\n",
    "counter = 0\n",
    "for (matrix, polarity, classifier), rows in detection_results.groupby(['matrix', 'polarity', 'regressor']):\n",
    "    clf_report = classification_report(rows.observed_value, rows.prediction, output_dict = True, zero_division=0)\n",
    "    if rows.observed_value.max() == 0:\n",
    "        print(\"no detection!\")\n",
    "    detection_metrics.loc[counter] = [matrix, polarity, classifier,\n",
    "                                      clf_report['0']['precision'], clf_report['0']['recall'],\n",
    "                                      clf_report['0']['f1-score'], clf_report['0']['support'],\n",
    "                                      clf_report['1']['precision'], clf_report['1']['recall'],\n",
    "                                      clf_report['1']['f1-score'], clf_report['1']['support'],]\n",
    "    counter += 1"
   ],
   "metadata": {
    "collapsed": false,
    "pycharm": {
     "name": "#%%\n"
    }
   }
  },
  {
   "cell_type": "code",
   "execution_count": null,
   "outputs": [],
   "source": [
    "best_det_f1 = detection_metrics.loc[detection_metrics.groupby(['matrix', 'polarity'])[\"det_f1\"].idxmax()].sort_values(\"det_f1\", ascending=False)\n",
    "\n",
    "# best_det_f1[\"det_f1\"].mean()\n",
    "best_det_f1[[\"matrix\", \"polarity\", \"det_f1\"]]"
   ],
   "metadata": {
    "collapsed": false,
    "pycharm": {
     "name": "#%%\n"
    }
   }
  },
  {
   "cell_type": "code",
   "execution_count": null,
   "outputs": [],
   "source": [
    "fig, axes = plt.subplots(ncols=4,nrows=5, sharey=True, figsize= (20, 35))\n",
    "ax_list = axes.flat\n",
    "\n",
    "metric = \"det_f1\"\n",
    "#metric = \"RMSE\"\n",
    "\n",
    "i = 0\n",
    "for (matrix, polarity), rows in detection_metrics.groupby(['matrix', 'polarity']):\n",
    "    rows = rows.set_index('classifier', drop = True).sort_values( by = metric)\n",
    "    rows[metric].plot.bar(ax = ax_list[i], title=f\"{matrix}-{polarity}\")\n",
    "    ax_list[i].set_ylabel(metric)\n",
    "    ax_list[i].grid(axis='y')\n",
    "    i+=1\n",
    "\n",
    "plt.subplots_adjust(hspace=0.5)\n",
    "\n",
    "plt.show()"
   ],
   "metadata": {
    "collapsed": false,
    "pycharm": {
     "name": "#%%\n"
    }
   }
  },
  {
   "cell_type": "markdown",
   "source": [
    "### Std of scores over folds:"
   ],
   "metadata": {
    "collapsed": false
   }
  },
  {
   "cell_type": "code",
   "execution_count": null,
   "outputs": [],
   "source": [
    "from sklearn.metrics import classification_report\n",
    "\n",
    "score_cols = ['not_det_precision', 'not_det_recall', 'not_det_f1', 'not_detected',\n",
    "                                            'det_precision', 'det_recall', 'det_f1', 'detected']\n",
    "\n",
    "detection_metrics_over_fold = pd.DataFrame(columns = ['matrix', 'polarity', 'classifier', 'fold'] + score_cols)\n",
    "\n",
    "counter = 0\n",
    "for (matrix, polarity, classifier, fold), rows in detection_results.groupby(['matrix', 'polarity', 'regressor', 'fold']):\n",
    "    clf_report = classification_report(rows.observed_value, rows.prediction, output_dict = True, zero_division=0)\n",
    "    if rows.observed_value.max() == 0:\n",
    "        print(\"no detection in fold {}, for matrix {} {}! Aborting\".format(fold, matrix, polarity))\n",
    "        break\n",
    "    detection_metrics_over_fold.loc[counter] = [matrix, polarity, classifier, fold,\n",
    "                                      clf_report['0']['precision'], clf_report['0']['recall'],\n",
    "                                      clf_report['0']['f1-score'], clf_report['0']['support'],\n",
    "                                      clf_report['1']['precision'], clf_report['1']['recall'],\n",
    "                                      clf_report['1']['f1-score'], clf_report['1']['support'],]\n",
    "    counter += 1\n",
    "\n",
    "# Now compute std over folds:\n",
    "detection_metrics_over_fold = detection_metrics_over_fold.groupby(['matrix', 'polarity', 'classifier'], as_index=False)[score_cols].std()\n",
    "detection_metrics_over_fold\n"
   ],
   "metadata": {
    "collapsed": false,
    "pycharm": {
     "name": "#%%\n"
    }
   }
  },
  {
   "cell_type": "code",
   "execution_count": null,
   "outputs": [],
   "source": [],
   "metadata": {
    "collapsed": false,
    "pycharm": {
     "name": "#%%\n"
    }
   }
  }
 ],
 "metadata": {
  "kernelspec": {
   "display_name": "PyCharm (spotting-project-regression)",
   "language": "python",
   "name": "pycharm-259249ee"
  },
  "language_info": {
   "codemirror_mode": {
    "name": "ipython",
    "version": 3
   },
   "file_extension": ".py",
   "mimetype": "text/x-python",
   "name": "python",
   "nbconvert_exporter": "python",
   "pygments_lexer": "ipython3",
   "version": "3.8.13"
  }
 },
 "nbformat": 4,
 "nbformat_minor": 1
}