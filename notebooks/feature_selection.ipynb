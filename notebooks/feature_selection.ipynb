{
 "cells": [
  {
   "cell_type": "code",
   "execution_count": 2,
   "metadata": {},
   "outputs": [],
   "source": [
    "import pandas as pd\n",
    "import scipy.stats\n",
    "%matplotlib inline\n",
    "import matplotlib.pyplot as plt\n",
    "import numpy as np\n",
    "import shap"
   ]
  },
  {
   "cell_type": "markdown",
   "metadata": {},
   "source": [
    "### Methods that work for both classification and regression (all types of features)"
   ]
  },
  {
   "cell_type": "code",
   "execution_count": null,
   "metadata": {},
   "outputs": [],
   "source": [
    "clf_important_features = pd.DataFrame(index = features)"
   ]
  },
  {
   "cell_type": "code",
   "execution_count": null,
   "metadata": {},
   "outputs": [],
   "source": [
    "from sklearn.ensemble import RandomForestClassifier\n",
    "\n",
    "rf = RandomForestClassifier(max_depth=5, n_estimators=10)\n",
    "rf.fit(train_x, train_y)\n",
    "\n",
    "clf_important_features.loc[features, 'RandomForestClf'] = rf.feature_importances_"
   ]
  },
  {
   "cell_type": "code",
   "execution_count": null,
   "metadata": {},
   "outputs": [],
   "source": [
    "from sklearn.neural_network import MLPClassifier\n",
    "   \n",
    "clf = MLPClassifier(alpha=1, max_iter=1000)\n",
    "clf.fit(train_x, train_y)\n",
    "\n",
    "explainer_clf = shap.KernelExplainer(clf.predict, data_df)\n",
    "shap_values_clf = explainer_clf.shap_values(data_df)"
   ]
  },
  {
   "cell_type": "code",
   "execution_count": null,
   "metadata": {},
   "outputs": [],
   "source": [
    "shap.summary_plot(shap_values = shap_values_clf, features = train_x, \n",
    "                  feature_names = important_features, class_names = ['not detected', 'detected'], \n",
    "                  color_bar_label = 'Feature level',\n",
    "                  max_display=40,\n",
    "                  show=False\n",
    "                )\n",
    "plt.tight_layout()"
   ]
  },
  {
   "cell_type": "code",
   "execution_count": null,
   "metadata": {},
   "outputs": [],
   "source": [
    "# find which feature contributes in a positive or negative way\n",
    "\n",
    "shap_values_clf_df = pd.DataFrame(shap_values_clf, columns = features, index = observations).T\n",
    "clf_signs = []\n",
    "for i, row in shap_values_clf_df.iterrows():\n",
    "    c = np.where(row < 0)\n",
    "    neg_patients = shap_values_clf_df.columns[c].tolist()\n",
    "    neg_val = features_norm_df.loc[neg_patients][i].mean()\n",
    "    c = np.where(row >= 0)\n",
    "    pos_patients = shap_values_clf_df.columns[c].tolist()\n",
    "    pos_val = features_norm_df.loc[pos_patients][i].mean()\n",
    "    if neg_val >= pos_val: sign = -1\n",
    "    else: sign = 1\n",
    "    clf_signs.append(sign)\n",
    "\n",
    "clf_important_features.loc[features, 'shap_feature_importance_abs_mean_sign'] = np.abs(shap_values_clf).mean(axis=0) * clf_signs"
   ]
  },
  {
   "cell_type": "markdown",
   "metadata": {},
   "source": [
    "### Additional methods for regression only (not good for binary features)"
   ]
  },
  {
   "cell_type": "code",
   "execution_count": null,
   "metadata": {},
   "outputs": [],
   "source": [
    "# Mutual information\n",
    "fi_clf = mutual_info_regression(train_x, train_y)\n",
    "reg_important_features['mutual_info'] = fi_clf\n",
    "\n",
    "# Polynomial fit\n",
    "polifit_res = np.polyfit(drug_rows['viability'].values, features_norm_df.drop(columns = 'patient'), \n",
    "                          2, full=True)\n",
    "reg_important_features['polyfit'] = polifit_res[1]\n",
    "\n",
    "# Correlation\n",
    "pearson = features_df.corrwith(intensities, method = 'pearson')\n",
    "spearman = features_df.corrwith(intensities, method = 'spearman')\n",
    "reg_important_features['pearson'] = pearson.values\n",
    "reg_important_features['spearman'] = spearman.values\n",
    "\n",
    "# Linear regression\n",
    "from sklearn.linear_model import LinearRegression\n",
    "lr = LinearRegression()\n",
    "lr.fit(train_x, train_y)\n",
    "important_features_df['Lin reg importance'] = lr.coef_[0]"
   ]
  },
  {
   "cell_type": "markdown",
   "metadata": {},
   "source": [
    "### For each importance criteria, test several thresholds on feature importance"
   ]
  },
  {
   "cell_type": "code",
   "execution_count": null,
   "metadata": {},
   "outputs": [],
   "source": [
    "for metric in important_features_df.columns:\n",
    "        metric_important_features_df = important_features_df[metric]\n",
    "        v_min = metric_important_features_df.abs().min()\n",
    "        v_max = metric_important_features_df.abs().max()\n",
    "        n_thresholds = 5 # NUMBER OF THRESHOLDS, CAN BE CHANGED\n",
    "        thresholds = np.linspace(v_min, v_max, n_thresholds+2)[1:-1]\n",
    "               \n",
    "        for t in thresholds:\n",
    "            important_features = metric_important_features_df[metric_important_features_df.abs()>t].index.tolist()\n",
    "            if len(important_features) == 0: continue\n",
    "            threshold_results_df = train_test_models(...)"
   ]
  }
 ],
 "metadata": {
  "kernelspec": {
   "display_name": "Python 3",
   "language": "python",
   "name": "python3"
  },
  "language_info": {
   "codemirror_mode": {
    "name": "ipython",
    "version": 3
   },
   "file_extension": ".py",
   "mimetype": "text/x-python",
   "name": "python",
   "nbconvert_exporter": "python",
   "pygments_lexer": "ipython3",
   "version": "3.8.10"
  }
 },
 "nbformat": 4,
 "nbformat_minor": 4
}
