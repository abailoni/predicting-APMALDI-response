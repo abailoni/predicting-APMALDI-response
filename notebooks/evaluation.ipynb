{
 "cells": [
  {
   "cell_type": "code",
   "execution_count": 2,
   "metadata": {},
   "outputs": [],
   "source": [
    "import scipy.stats\n",
    "from sklearn.metrics import mean_squared_error\n",
    "import pandas as pd\n",
    "from matplotlib import pyplot as plt"
   ]
  },
  {
   "cell_type": "code",
   "execution_count": 28,
   "metadata": {},
   "outputs": [
    {
     "data": {
      "text/plain": "      Matrix short  Polarity                regressor  observed_value  \\\n0              9AA  negative                  Lin_reg               0   \n1              9AA  positive                  Lin_reg               0   \n2             CHCA  negative                  Lin_reg               0   \n3             CHCA  positive                  Lin_reg               0   \n4             CMBT  negative                  Lin_reg               0   \n...            ...       ...                      ...             ...   \n60055         NEDC  positive  GaussianProcessMultiOut               0   \n60056          NOR  negative  GaussianProcessMultiOut               0   \n60057          NOR  positive  GaussianProcessMultiOut               0   \n60058          pNA  negative  GaussianProcessMultiOut               0   \n60059          pNA  positive  GaussianProcessMultiOut               0   \n\n         prediction               name_short adduct  \n0     -2.135966e+10       2-Oxoglutaric acid    +Cl  \n1     -3.003984e+10       2-Oxoglutaric acid    +Cl  \n2     -6.240325e+08       2-Oxoglutaric acid    +Cl  \n3     -3.409644e+10       2-Oxoglutaric acid    +Cl  \n4     -8.175534e+09       2-Oxoglutaric acid    +Cl  \n...             ...                      ...    ...  \n60055  1.051754e-01  gamma-Aminobutyric acid   [M]-  \n60056 -1.869756e-01  gamma-Aminobutyric acid   [M]-  \n60057  3.206369e-01  gamma-Aminobutyric acid   [M]-  \n60058 -2.648387e-01  gamma-Aminobutyric acid   [M]-  \n60059 -6.448486e-01  gamma-Aminobutyric acid   [M]-  \n\n[307580 rows x 7 columns]",
      "text/html": "<div>\n<style scoped>\n    .dataframe tbody tr th:only-of-type {\n        vertical-align: middle;\n    }\n\n    .dataframe tbody tr th {\n        vertical-align: top;\n    }\n\n    .dataframe thead th {\n        text-align: right;\n    }\n</style>\n<table border=\"1\" class=\"dataframe\">\n  <thead>\n    <tr style=\"text-align: right;\">\n      <th></th>\n      <th>Matrix short</th>\n      <th>Polarity</th>\n      <th>regressor</th>\n      <th>observed_value</th>\n      <th>prediction</th>\n      <th>name_short</th>\n      <th>adduct</th>\n    </tr>\n  </thead>\n  <tbody>\n    <tr>\n      <th>0</th>\n      <td>9AA</td>\n      <td>negative</td>\n      <td>Lin_reg</td>\n      <td>0</td>\n      <td>-2.135966e+10</td>\n      <td>2-Oxoglutaric acid</td>\n      <td>+Cl</td>\n    </tr>\n    <tr>\n      <th>1</th>\n      <td>9AA</td>\n      <td>positive</td>\n      <td>Lin_reg</td>\n      <td>0</td>\n      <td>-3.003984e+10</td>\n      <td>2-Oxoglutaric acid</td>\n      <td>+Cl</td>\n    </tr>\n    <tr>\n      <th>2</th>\n      <td>CHCA</td>\n      <td>negative</td>\n      <td>Lin_reg</td>\n      <td>0</td>\n      <td>-6.240325e+08</td>\n      <td>2-Oxoglutaric acid</td>\n      <td>+Cl</td>\n    </tr>\n    <tr>\n      <th>3</th>\n      <td>CHCA</td>\n      <td>positive</td>\n      <td>Lin_reg</td>\n      <td>0</td>\n      <td>-3.409644e+10</td>\n      <td>2-Oxoglutaric acid</td>\n      <td>+Cl</td>\n    </tr>\n    <tr>\n      <th>4</th>\n      <td>CMBT</td>\n      <td>negative</td>\n      <td>Lin_reg</td>\n      <td>0</td>\n      <td>-8.175534e+09</td>\n      <td>2-Oxoglutaric acid</td>\n      <td>+Cl</td>\n    </tr>\n    <tr>\n      <th>...</th>\n      <td>...</td>\n      <td>...</td>\n      <td>...</td>\n      <td>...</td>\n      <td>...</td>\n      <td>...</td>\n      <td>...</td>\n    </tr>\n    <tr>\n      <th>60055</th>\n      <td>NEDC</td>\n      <td>positive</td>\n      <td>GaussianProcessMultiOut</td>\n      <td>0</td>\n      <td>1.051754e-01</td>\n      <td>gamma-Aminobutyric acid</td>\n      <td>[M]-</td>\n    </tr>\n    <tr>\n      <th>60056</th>\n      <td>NOR</td>\n      <td>negative</td>\n      <td>GaussianProcessMultiOut</td>\n      <td>0</td>\n      <td>-1.869756e-01</td>\n      <td>gamma-Aminobutyric acid</td>\n      <td>[M]-</td>\n    </tr>\n    <tr>\n      <th>60057</th>\n      <td>NOR</td>\n      <td>positive</td>\n      <td>GaussianProcessMultiOut</td>\n      <td>0</td>\n      <td>3.206369e-01</td>\n      <td>gamma-Aminobutyric acid</td>\n      <td>[M]-</td>\n    </tr>\n    <tr>\n      <th>60058</th>\n      <td>pNA</td>\n      <td>negative</td>\n      <td>GaussianProcessMultiOut</td>\n      <td>0</td>\n      <td>-2.648387e-01</td>\n      <td>gamma-Aminobutyric acid</td>\n      <td>[M]-</td>\n    </tr>\n    <tr>\n      <th>60059</th>\n      <td>pNA</td>\n      <td>positive</td>\n      <td>GaussianProcessMultiOut</td>\n      <td>0</td>\n      <td>-6.448486e-01</td>\n      <td>gamma-Aminobutyric acid</td>\n      <td>[M]-</td>\n    </tr>\n  </tbody>\n</table>\n<p>307580 rows × 7 columns</p>\n</div>"
     },
     "execution_count": 28,
     "metadata": {},
     "output_type": "execute_result"
    }
   ],
   "source": [
    "regression_results = pd.read_csv(\"../results/multioutput/detection_results_all_feat.csv\", index_col=0)\n",
    "regression_results"
   ]
  },
  {
   "cell_type": "code",
   "execution_count": 19,
   "metadata": {},
   "outputs": [],
   "source": [
    "# compute Spearman's/Pearson's correlation and mean squared error for each matrix/polarity/regressor\n",
    "regression_metrics = pd.DataFrame(columns = ['matrix', 'polarity', 'regressor', \"Spearman's R\", \n",
    "                                             'S pval', \"Pearson's R\", 'P pval', 'RMSE', 'RMSE/std', 'non-zero obs'])\n",
    "counter = 0\n",
    "for (matrix, polarity, regressor), rows in regression_results.groupby(['Matrix short', 'Polarity', 'regressor']):\n",
    "    # remove zero intensity molecules if needed (optional)\n",
    "    rows = rows[rows['observed_value']!=0]\n",
    "    \n",
    "    spearman = scipy.stats.spearmanr(rows.observed_value, rows.prediction)\n",
    "    pearson = scipy.stats.pearsonr(rows.observed_value, rows.prediction)\n",
    "    mse = mean_squared_error(rows.observed_value, rows.prediction, squared = False)\n",
    "    mse_std = mse / rows['observed_value'].std()\n",
    "    regression_metrics.loc[counter] = [matrix, polarity, regressor, spearman[0], spearman[1], \n",
    "                                       pearson[0], pearson[1], mse, mse_std, \n",
    "                                       rows[rows['observed_value']!=0].shape[0]]\n",
    "    counter += 1"
   ]
  },
  {
   "cell_type": "code",
   "execution_count": 20,
   "metadata": {},
   "outputs": [
    {
     "data": {
      "text/plain": "    matrix  polarity             regressor  Spearman's R        S pval  \\\n9      9AA  negative          RandomForest      0.745471  7.066228e-31   \n22     9AA  positive          RandomForest      0.647281  1.492288e-13   \n61    CMBT  negative          RandomForest      0.619202  2.826969e-07   \n217    NOR  negative          RandomForest      0.618408  4.336882e-17   \n230    NOR  positive          RandomForest      0.605522  2.211668e-17   \n196   NEDC  positive  DecisionTreeMultiOut      0.587999  6.310839e-09   \n126    DAN  positive          RandomForest      0.584580  1.503985e-20   \n51    CHCA  positive               SVR_rbf      0.571282  3.850723e-32   \n88   ClCCA  negative  RandomForestMultiOut      0.569279  1.123666e-06   \n76    CMBT  positive              SVR_poly      0.561497  5.338479e-24   \n180    DHB  positive              SVR_poly      0.559841  6.796499e-33   \n116    DAN  negative               SVR_rbf      0.559634  3.741381e-14   \n258    pNA  positive              SVR_poly      0.549171  5.495880e-23   \n165    DHB  negative          RandomForest      0.541389  1.560092e-06   \n155   DHAP  positive               SVR_rbf      0.525867  5.874745e-21   \n140   DHAP  negative  RandomForestMultiOut      0.523497  1.195391e-07   \n103  ClCCA  positive               SVR_rbf      0.507483  2.755097e-25   \n27    CHCA  negative  DecisionTreeMultiOut      0.485840  5.658457e-06   \n182   NEDC  negative          DecisionTree      0.414604  1.488381e-03   \n235    pNA  negative  DecisionTreeMultiOut      0.386236  4.712314e-05   \n\n     Pearson's R        P pval      RMSE  RMSE/std  non-zero obs  \n9       0.683869  2.312679e-24  1.681396  0.766526           167  \n22      0.684512  1.564091e-15  1.232718  0.756134           103  \n61      0.441913  5.785716e-04  0.549919  0.985802            57  \n217     0.495378  1.337387e-10  1.462239  0.929936           149  \n230     0.624746  1.061220e-18  1.196835  0.823233           160  \n196     0.214028  5.350892e-02  0.712429  1.171802            82  \n126     0.639602  1.936323e-25  0.843805  0.794660           209  \n51      0.466665  1.340881e-20  1.396499  0.989684           355  \n88      0.124220  3.320555e-01  0.381756  1.053334            63  \n76      0.491326  6.183796e-18  0.997073  0.894384           272  \n180     0.580978  7.349178e-36  1.134425  0.839796           382  \n116     0.462695  1.348993e-09  1.095407  1.019676           155  \n258     0.527918  4.588706e-21  1.121363  0.881139           274  \n165     0.453045  9.271853e-05  0.930480  0.960811            69  \n155     0.604624  8.406104e-29  0.688690  0.876158           275  \n140     0.330909  1.444290e-03  0.745518  0.974763            90  \n103     0.492913  9.661749e-24  0.804459  0.928631           365  \n27      0.294984  8.312864e-03  1.300941  1.021368            79  \n182     0.530867  2.565008e-05  0.310511  0.937443            56  \n235     0.254325  8.843093e-03  0.879442  1.033422           105  ",
      "text/html": "<div>\n<style scoped>\n    .dataframe tbody tr th:only-of-type {\n        vertical-align: middle;\n    }\n\n    .dataframe tbody tr th {\n        vertical-align: top;\n    }\n\n    .dataframe thead th {\n        text-align: right;\n    }\n</style>\n<table border=\"1\" class=\"dataframe\">\n  <thead>\n    <tr style=\"text-align: right;\">\n      <th></th>\n      <th>matrix</th>\n      <th>polarity</th>\n      <th>regressor</th>\n      <th>Spearman's R</th>\n      <th>S pval</th>\n      <th>Pearson's R</th>\n      <th>P pval</th>\n      <th>RMSE</th>\n      <th>RMSE/std</th>\n      <th>non-zero obs</th>\n    </tr>\n  </thead>\n  <tbody>\n    <tr>\n      <th>9</th>\n      <td>9AA</td>\n      <td>negative</td>\n      <td>RandomForest</td>\n      <td>0.745471</td>\n      <td>7.066228e-31</td>\n      <td>0.683869</td>\n      <td>2.312679e-24</td>\n      <td>1.681396</td>\n      <td>0.766526</td>\n      <td>167</td>\n    </tr>\n    <tr>\n      <th>22</th>\n      <td>9AA</td>\n      <td>positive</td>\n      <td>RandomForest</td>\n      <td>0.647281</td>\n      <td>1.492288e-13</td>\n      <td>0.684512</td>\n      <td>1.564091e-15</td>\n      <td>1.232718</td>\n      <td>0.756134</td>\n      <td>103</td>\n    </tr>\n    <tr>\n      <th>61</th>\n      <td>CMBT</td>\n      <td>negative</td>\n      <td>RandomForest</td>\n      <td>0.619202</td>\n      <td>2.826969e-07</td>\n      <td>0.441913</td>\n      <td>5.785716e-04</td>\n      <td>0.549919</td>\n      <td>0.985802</td>\n      <td>57</td>\n    </tr>\n    <tr>\n      <th>217</th>\n      <td>NOR</td>\n      <td>negative</td>\n      <td>RandomForest</td>\n      <td>0.618408</td>\n      <td>4.336882e-17</td>\n      <td>0.495378</td>\n      <td>1.337387e-10</td>\n      <td>1.462239</td>\n      <td>0.929936</td>\n      <td>149</td>\n    </tr>\n    <tr>\n      <th>230</th>\n      <td>NOR</td>\n      <td>positive</td>\n      <td>RandomForest</td>\n      <td>0.605522</td>\n      <td>2.211668e-17</td>\n      <td>0.624746</td>\n      <td>1.061220e-18</td>\n      <td>1.196835</td>\n      <td>0.823233</td>\n      <td>160</td>\n    </tr>\n    <tr>\n      <th>196</th>\n      <td>NEDC</td>\n      <td>positive</td>\n      <td>DecisionTreeMultiOut</td>\n      <td>0.587999</td>\n      <td>6.310839e-09</td>\n      <td>0.214028</td>\n      <td>5.350892e-02</td>\n      <td>0.712429</td>\n      <td>1.171802</td>\n      <td>82</td>\n    </tr>\n    <tr>\n      <th>126</th>\n      <td>DAN</td>\n      <td>positive</td>\n      <td>RandomForest</td>\n      <td>0.584580</td>\n      <td>1.503985e-20</td>\n      <td>0.639602</td>\n      <td>1.936323e-25</td>\n      <td>0.843805</td>\n      <td>0.794660</td>\n      <td>209</td>\n    </tr>\n    <tr>\n      <th>51</th>\n      <td>CHCA</td>\n      <td>positive</td>\n      <td>SVR_rbf</td>\n      <td>0.571282</td>\n      <td>3.850723e-32</td>\n      <td>0.466665</td>\n      <td>1.340881e-20</td>\n      <td>1.396499</td>\n      <td>0.989684</td>\n      <td>355</td>\n    </tr>\n    <tr>\n      <th>88</th>\n      <td>ClCCA</td>\n      <td>negative</td>\n      <td>RandomForestMultiOut</td>\n      <td>0.569279</td>\n      <td>1.123666e-06</td>\n      <td>0.124220</td>\n      <td>3.320555e-01</td>\n      <td>0.381756</td>\n      <td>1.053334</td>\n      <td>63</td>\n    </tr>\n    <tr>\n      <th>76</th>\n      <td>CMBT</td>\n      <td>positive</td>\n      <td>SVR_poly</td>\n      <td>0.561497</td>\n      <td>5.338479e-24</td>\n      <td>0.491326</td>\n      <td>6.183796e-18</td>\n      <td>0.997073</td>\n      <td>0.894384</td>\n      <td>272</td>\n    </tr>\n    <tr>\n      <th>180</th>\n      <td>DHB</td>\n      <td>positive</td>\n      <td>SVR_poly</td>\n      <td>0.559841</td>\n      <td>6.796499e-33</td>\n      <td>0.580978</td>\n      <td>7.349178e-36</td>\n      <td>1.134425</td>\n      <td>0.839796</td>\n      <td>382</td>\n    </tr>\n    <tr>\n      <th>116</th>\n      <td>DAN</td>\n      <td>negative</td>\n      <td>SVR_rbf</td>\n      <td>0.559634</td>\n      <td>3.741381e-14</td>\n      <td>0.462695</td>\n      <td>1.348993e-09</td>\n      <td>1.095407</td>\n      <td>1.019676</td>\n      <td>155</td>\n    </tr>\n    <tr>\n      <th>258</th>\n      <td>pNA</td>\n      <td>positive</td>\n      <td>SVR_poly</td>\n      <td>0.549171</td>\n      <td>5.495880e-23</td>\n      <td>0.527918</td>\n      <td>4.588706e-21</td>\n      <td>1.121363</td>\n      <td>0.881139</td>\n      <td>274</td>\n    </tr>\n    <tr>\n      <th>165</th>\n      <td>DHB</td>\n      <td>negative</td>\n      <td>RandomForest</td>\n      <td>0.541389</td>\n      <td>1.560092e-06</td>\n      <td>0.453045</td>\n      <td>9.271853e-05</td>\n      <td>0.930480</td>\n      <td>0.960811</td>\n      <td>69</td>\n    </tr>\n    <tr>\n      <th>155</th>\n      <td>DHAP</td>\n      <td>positive</td>\n      <td>SVR_rbf</td>\n      <td>0.525867</td>\n      <td>5.874745e-21</td>\n      <td>0.604624</td>\n      <td>8.406104e-29</td>\n      <td>0.688690</td>\n      <td>0.876158</td>\n      <td>275</td>\n    </tr>\n    <tr>\n      <th>140</th>\n      <td>DHAP</td>\n      <td>negative</td>\n      <td>RandomForestMultiOut</td>\n      <td>0.523497</td>\n      <td>1.195391e-07</td>\n      <td>0.330909</td>\n      <td>1.444290e-03</td>\n      <td>0.745518</td>\n      <td>0.974763</td>\n      <td>90</td>\n    </tr>\n    <tr>\n      <th>103</th>\n      <td>ClCCA</td>\n      <td>positive</td>\n      <td>SVR_rbf</td>\n      <td>0.507483</td>\n      <td>2.755097e-25</td>\n      <td>0.492913</td>\n      <td>9.661749e-24</td>\n      <td>0.804459</td>\n      <td>0.928631</td>\n      <td>365</td>\n    </tr>\n    <tr>\n      <th>27</th>\n      <td>CHCA</td>\n      <td>negative</td>\n      <td>DecisionTreeMultiOut</td>\n      <td>0.485840</td>\n      <td>5.658457e-06</td>\n      <td>0.294984</td>\n      <td>8.312864e-03</td>\n      <td>1.300941</td>\n      <td>1.021368</td>\n      <td>79</td>\n    </tr>\n    <tr>\n      <th>182</th>\n      <td>NEDC</td>\n      <td>negative</td>\n      <td>DecisionTree</td>\n      <td>0.414604</td>\n      <td>1.488381e-03</td>\n      <td>0.530867</td>\n      <td>2.565008e-05</td>\n      <td>0.310511</td>\n      <td>0.937443</td>\n      <td>56</td>\n    </tr>\n    <tr>\n      <th>235</th>\n      <td>pNA</td>\n      <td>negative</td>\n      <td>DecisionTreeMultiOut</td>\n      <td>0.386236</td>\n      <td>4.712314e-05</td>\n      <td>0.254325</td>\n      <td>8.843093e-03</td>\n      <td>0.879442</td>\n      <td>1.033422</td>\n      <td>105</td>\n    </tr>\n  </tbody>\n</table>\n</div>"
     },
     "execution_count": 20,
     "metadata": {},
     "output_type": "execute_result"
    }
   ],
   "source": [
    "# select best regressor for each matrix/polarity combination\n",
    "best_RMSE = regression_metrics.loc[regression_metrics.groupby(['matrix', 'polarity'])[\"RMSE/std\"].idxmin()]\n",
    "#best_RMSE\n",
    "\n",
    "best_spear = regression_metrics.loc[regression_metrics.groupby(['matrix', 'polarity'])[\"Spearman's R\"].idxmax()].sort_values(\"Spearman's R\", ascending=False)\n",
    "best_spear"
   ]
  },
  {
   "cell_type": "markdown",
   "source": [
    "### Matrix prediction accuracy\n",
    "Check if the best matrix is selected for each ion with a selected regressor\n",
    "\n",
    "\n",
    "Ignore molecules that were never observed"
   ],
   "metadata": {
    "collapsed": false,
    "pycharm": {
     "name": "#%% md\n"
    }
   }
  },
  {
   "cell_type": "code",
   "execution_count": 26,
   "outputs": [],
   "source": [
    "# Get rid of molecules that were never detected from results dt:\n",
    "g = regression_results.groupby(['name_short', 'adduct'], as_index=False)[\"observed_value\"].max()\n",
    "regression_results = pd.merge(regression_results, g[g[\"observed_value\"] >= 0.][[\"adduct\", \"name_short\"]],\n",
    "        how=\"inner\")\n",
    "\n",
    "accuracy_df = pd.DataFrame(columns = ['regressor', 'accuracy'])\n",
    "for i, selected_regressor in enumerate(regression_results[\"regressor\"].unique()):\n",
    "    accuracy = 0\n",
    "    for (molecule, adduct), rows in regression_results[regression_results.regressor == selected_regressor].groupby(['name_short', 'adduct']):\n",
    "        # print(rows[\"observed_value\"].idxmax(), rows.loc[rows[\"observed_value\"].idxmax(), [\"matrix\", \"polarity\"]])\n",
    "        best_observed = rows.loc[rows[\"observed_value\"].idxmax(), [\"matrix\", \"polarity\"]]\n",
    "        # Warning: idxmax() returns the first row (even in case of ties)\n",
    "        best_predicted = rows.loc[rows[\"prediction\"].idxmax()][[\"matrix\", \"polarity\"]]\n",
    "\n",
    "        # If all observed intensities were zeros, let's check if all predicted intensities were also low:\n",
    "        if rows[\"observed_value\"].max() <= 0.:\n",
    "            # FIXME: for the moment we use arbitrary number\n",
    "            # print(rows[\"prediction\"].max())\n",
    "            if rows[\"prediction\"].max() <= 0.05: accuracy += 1\n",
    "        else:\n",
    "            if (best_observed == best_predicted).all(): accuracy += 1\n",
    "        # else:\n",
    "        #     print(\"Warning: multiple predictions with same intensity\")\n",
    "        #     if len(pd.merge(best_observed, best_predicted)) > 0: accuracy += 1\n",
    "\n",
    "    accuracy = accuracy / regression_results[regression_results.regressor == selected_regressor][['name_short', 'adduct']].drop_duplicates().shape[0]\n",
    "    accuracy_df.loc[i] = [selected_regressor, accuracy]\n"
   ],
   "metadata": {
    "collapsed": false,
    "pycharm": {
     "name": "#%%\n"
    }
   }
  },
  {
   "cell_type": "code",
   "execution_count": 27,
   "outputs": [
    {
     "data": {
      "text/plain": "                  regressor  accuracy\n5              DecisionTree  0.267963\n7              RandomForest  0.240913\n4                KNeighbors  0.109890\n12  GaussianProcessMultiOut  0.109890\n3                  SVR_poly  0.081150\n11          GaussianProcess  0.076078\n2                   SVR_rbf  0.065934\n10              MLPMultiOut  0.010144\n0                   Lin_reg  0.005072\n1           Lin_regMultiOut  0.005072\n8      RandomForestMultiOut  0.005072\n6      DecisionTreeMultiOut  0.000845\n9                       MLP  0.000000",
      "text/html": "<div>\n<style scoped>\n    .dataframe tbody tr th:only-of-type {\n        vertical-align: middle;\n    }\n\n    .dataframe tbody tr th {\n        vertical-align: top;\n    }\n\n    .dataframe thead th {\n        text-align: right;\n    }\n</style>\n<table border=\"1\" class=\"dataframe\">\n  <thead>\n    <tr style=\"text-align: right;\">\n      <th></th>\n      <th>regressor</th>\n      <th>accuracy</th>\n    </tr>\n  </thead>\n  <tbody>\n    <tr>\n      <th>5</th>\n      <td>DecisionTree</td>\n      <td>0.267963</td>\n    </tr>\n    <tr>\n      <th>7</th>\n      <td>RandomForest</td>\n      <td>0.240913</td>\n    </tr>\n    <tr>\n      <th>4</th>\n      <td>KNeighbors</td>\n      <td>0.109890</td>\n    </tr>\n    <tr>\n      <th>12</th>\n      <td>GaussianProcessMultiOut</td>\n      <td>0.109890</td>\n    </tr>\n    <tr>\n      <th>3</th>\n      <td>SVR_poly</td>\n      <td>0.081150</td>\n    </tr>\n    <tr>\n      <th>11</th>\n      <td>GaussianProcess</td>\n      <td>0.076078</td>\n    </tr>\n    <tr>\n      <th>2</th>\n      <td>SVR_rbf</td>\n      <td>0.065934</td>\n    </tr>\n    <tr>\n      <th>10</th>\n      <td>MLPMultiOut</td>\n      <td>0.010144</td>\n    </tr>\n    <tr>\n      <th>0</th>\n      <td>Lin_reg</td>\n      <td>0.005072</td>\n    </tr>\n    <tr>\n      <th>1</th>\n      <td>Lin_regMultiOut</td>\n      <td>0.005072</td>\n    </tr>\n    <tr>\n      <th>8</th>\n      <td>RandomForestMultiOut</td>\n      <td>0.005072</td>\n    </tr>\n    <tr>\n      <th>6</th>\n      <td>DecisionTreeMultiOut</td>\n      <td>0.000845</td>\n    </tr>\n    <tr>\n      <th>9</th>\n      <td>MLP</td>\n      <td>0.000000</td>\n    </tr>\n  </tbody>\n</table>\n</div>"
     },
     "execution_count": 27,
     "metadata": {},
     "output_type": "execute_result"
    }
   ],
   "source": [
    "accuracy_df.sort_values(\"accuracy\", ascending=False)"
   ],
   "metadata": {
    "collapsed": false,
    "pycharm": {
     "name": "#%%\n"
    }
   }
  },
  {
   "cell_type": "code",
   "execution_count": null,
   "outputs": [],
   "source": [],
   "metadata": {
    "collapsed": false,
    "pycharm": {
     "name": "#%%\n"
    }
   }
  }
 ],
 "metadata": {
  "kernelspec": {
   "display_name": "Python 3",
   "language": "python",
   "name": "python3"
  },
  "language_info": {
   "codemirror_mode": {
    "name": "ipython",
    "version": 3
   },
   "file_extension": ".py",
   "mimetype": "text/x-python",
   "name": "python",
   "nbconvert_exporter": "python",
   "pygments_lexer": "ipython3",
   "version": "3.8.10"
  }
 },
 "nbformat": 4,
 "nbformat_minor": 4
}